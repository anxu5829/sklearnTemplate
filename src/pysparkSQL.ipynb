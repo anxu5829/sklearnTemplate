{
 "cells": [
  {
   "cell_type": "code",
   "execution_count": 1,
   "metadata": {
    "collapsed": true
   },
   "outputs": [],
   "source": [
    "from pyspark import SparkContext\n",
    "from pyspark.conf import SparkConf\n",
    "from pyspark.sql import SparkSession"
   ]
  },
  {
   "cell_type": "code",
   "execution_count": 6,
   "metadata": {},
   "outputs": [],
   "source": [
    "appName = \"spark\"\n",
    "# create context for spark\n",
    "sc = SparkContext(master = 'local',appName= appName)\n",
    "\n",
    "# create session for sql\n",
    "    # use builder (start to build)\n",
    "    # set appName (create a new task and give a name to it )\n",
    "    # set config (config your new env , use SparkConf)\n",
    "    # getOrCreate() to start the workflow\n",
    "sess = SparkSession.\\\n",
    "            builder.\\\n",
    "            appName(\"dataLoader\").\\\n",
    "            config(conf  = SparkConf()).\\\n",
    "            getOrCreate()\n"
   ]
  },
  {
   "cell_type": "code",
   "execution_count": 7,
   "metadata": {
    "collapsed": true
   },
   "outputs": [],
   "source": [
    "trainset  = sess.read.csv(\"../data/round1_ijcai_18_train_20180301.txt\",sep = ' ',header =  True)"
   ]
  },
  {
   "cell_type": "code",
   "execution_count": 64,
   "metadata": {},
   "outputs": [
    {
     "data": {
      "text/plain": [
       "[StructField(instance_id,StringType,true),\n",
       " StructField(item_id,StringType,true),\n",
       " StructField(item_category_list,StringType,true),\n",
       " StructField(item_property_list,StringType,true),\n",
       " StructField(item_brand_id,StringType,true),\n",
       " StructField(item_city_id,StringType,true),\n",
       " StructField(item_price_level,StringType,true),\n",
       " StructField(item_sales_level,StringType,true),\n",
       " StructField(item_collected_level,StringType,true),\n",
       " StructField(item_pv_level,StringType,true),\n",
       " StructField(user_id,StringType,true),\n",
       " StructField(user_gender_id,StringType,true),\n",
       " StructField(user_age_level,StringType,true),\n",
       " StructField(user_occupation_id,StringType,true),\n",
       " StructField(user_star_level,StringType,true),\n",
       " StructField(context_id,StringType,true),\n",
       " StructField(context_timestamp,StringType,true),\n",
       " StructField(context_page_id,StringType,true),\n",
       " StructField(predict_category_property,StringType,true),\n",
       " StructField(shop_id,StringType,true),\n",
       " StructField(shop_review_num_level,StringType,true),\n",
       " StructField(shop_review_positive_rate,StringType,true),\n",
       " StructField(shop_star_level,StringType,true),\n",
       " StructField(shop_score_service,StringType,true),\n",
       " StructField(shop_score_delivery,StringType,true),\n",
       " StructField(shop_score_description,StringType,true),\n",
       " StructField(is_trade,StringType,true)]"
      ]
     },
     "execution_count": 64,
     "metadata": {},
     "output_type": "execute_result"
    }
   ],
   "source": [
    "trainset.schema.fields"
   ]
  },
  {
   "cell_type": "markdown",
   "metadata": {},
   "source": [
    "# create columns"
   ]
  },
  {
   "cell_type": "markdown",
   "metadata": {},
   "source": [
    "## user defined function"
   ]
  },
  {
   "cell_type": "code",
   "execution_count": 67,
   "metadata": {
    "collapsed": true
   },
   "outputs": [],
   "source": [
    "timestamp = trainset.select(\"context_timestamp\")"
   ]
  },
  {
   "cell_type": "code",
   "execution_count": 68,
   "metadata": {
    "collapsed": true
   },
   "outputs": [],
   "source": [
    "import datetime\n",
    "s = timestamp.first()\n"
   ]
  },
  {
   "cell_type": "code",
   "execution_count": 69,
   "metadata": {
    "scrolled": true
   },
   "outputs": [
    {
     "name": "stdout",
     "output_type": "stream",
     "text": [
      "+-----------------+---+\n",
      "|context_timestamp|day|\n",
      "+-----------------+---+\n",
      "|       1537236544| 18|\n",
      "|       1537243232| 18|\n",
      "|       1537211052| 17|\n",
      "|       1537222670| 17|\n",
      "|       1537271320| 18|\n",
      "|       1537282855| 18|\n",
      "|       1537280317| 18|\n",
      "|       1537261120| 18|\n",
      "|       1537208871| 17|\n",
      "|       1537285390| 18|\n",
      "|       1537263036| 18|\n",
      "|       1537240361| 18|\n",
      "|       1537285082| 18|\n",
      "|       1537280484| 18|\n",
      "|       1537253096| 18|\n",
      "|       1537202495| 17|\n",
      "|       1537265813| 18|\n",
      "|       1537256335| 18|\n",
      "|       1537267960| 18|\n",
      "|       1537278755| 18|\n",
      "+-----------------+---+\n",
      "only showing top 20 rows\n",
      "\n"
     ]
    }
   ],
   "source": [
    "ti = timestamp.limit(100)\n",
    "from pyspark.sql.functions import udf\n",
    "from pyspark.sql.types import IntegerType\n",
    "\n",
    "f = udf(lambda x: datetime.datetime.utcfromtimestamp(float(x)).day ,IntegerType())\n",
    "ti.withColumn(\"day\",f(\"context_timestamp\")).show()"
   ]
  },
  {
   "cell_type": "markdown",
   "metadata": {},
   "source": [
    "## withColumns : use multiple features"
   ]
  },
  {
   "cell_type": "code",
   "execution_count": 73,
   "metadata": {},
   "outputs": [
    {
     "name": "stdout",
     "output_type": "stream",
     "text": [
      "+-----------------+---+----+---+\n",
      "|context_timestamp|day|hour|new|\n",
      "+-----------------+---+----+---+\n",
      "|       1537236544| 18|   2| 20|\n",
      "|       1537285082| 18|  15| 33|\n",
      "|       1537283431| 18|  15| 33|\n",
      "|       1537265363| 18|  10| 28|\n",
      "|       1537263058| 18|   9| 27|\n",
      "|       1537203951| 17|  17| 34|\n",
      "|       1537267462| 18|  10| 28|\n",
      "|       1537236361| 18|   2| 20|\n",
      "|       1537258150| 18|   8| 26|\n",
      "|       1537238066| 18|   2| 20|\n",
      "|       1537237197| 18|   2| 20|\n",
      "|       1537274454| 18|  12| 30|\n",
      "|       1537241342| 18|   3| 21|\n",
      "|       1537233194| 18|   1| 19|\n",
      "|       1537232815| 18|   1| 19|\n",
      "|       1537268997| 18|  11| 29|\n",
      "|       1537251067| 18|   6| 24|\n",
      "|       1537275785| 18|  13| 31|\n",
      "|       1537275682| 18|  13| 31|\n",
      "|       1537249147| 18|   5| 23|\n",
      "+-----------------+---+----+---+\n",
      "only showing top 20 rows\n",
      "\n"
     ]
    }
   ],
   "source": [
    "from pyspark.sql.functions import udf , array\n",
    "from pyspark.sql.types import IntegerType\n",
    "f = udf(lambda x: x[0]+x[1] , IntegerType())\n",
    "tiwithHour.withColumn(\"new\",f(array(\"day\",\"hour\"))).show()"
   ]
  },
  {
   "cell_type": "markdown",
   "metadata": {},
   "source": [
    "## mapping"
   ]
  },
  {
   "cell_type": "code",
   "execution_count": 36,
   "metadata": {},
   "outputs": [
    {
     "data": {
      "text/plain": [
       "[(Row(context_timestamp='1537236544'), 1),\n",
       " (Row(context_timestamp='1537243232'), 1),\n",
       " (Row(context_timestamp='1537211052'), 1),\n",
       " (Row(context_timestamp='1537222670'), 1),\n",
       " (Row(context_timestamp='1537271320'), 1),\n",
       " (Row(context_timestamp='1537282855'), 1),\n",
       " (Row(context_timestamp='1537280317'), 1),\n",
       " (Row(context_timestamp='1537261120'), 1),\n",
       " (Row(context_timestamp='1537208871'), 1),\n",
       " (Row(context_timestamp='1537285390'), 1),\n",
       " (Row(context_timestamp='1537263036'), 1),\n",
       " (Row(context_timestamp='1537240361'), 1),\n",
       " (Row(context_timestamp='1537285082'), 1),\n",
       " (Row(context_timestamp='1537280484'), 1),\n",
       " (Row(context_timestamp='1537253096'), 1),\n",
       " (Row(context_timestamp='1537202495'), 1),\n",
       " (Row(context_timestamp='1537265813'), 1),\n",
       " (Row(context_timestamp='1537256335'), 1),\n",
       " (Row(context_timestamp='1537267960'), 1),\n",
       " (Row(context_timestamp='1537278755'), 1),\n",
       " (Row(context_timestamp='1537282521'), 1),\n",
       " (Row(context_timestamp='1537281674'), 1),\n",
       " (Row(context_timestamp='1537277481'), 1),\n",
       " (Row(context_timestamp='1537279275'), 1),\n",
       " (Row(context_timestamp='1537280954'), 1),\n",
       " (Row(context_timestamp='1537231966'), 1),\n",
       " (Row(context_timestamp='1537285056'), 1),\n",
       " (Row(context_timestamp='1537285682'), 1),\n",
       " (Row(context_timestamp='1537273341'), 1),\n",
       " (Row(context_timestamp='1537235072'), 1),\n",
       " (Row(context_timestamp='1537238531'), 1),\n",
       " (Row(context_timestamp='1537238710'), 1),\n",
       " (Row(context_timestamp='1537282767'), 1),\n",
       " (Row(context_timestamp='1537252330'), 1),\n",
       " (Row(context_timestamp='1537241566'), 1),\n",
       " (Row(context_timestamp='1537261981'), 1),\n",
       " (Row(context_timestamp='1537231391'), 1),\n",
       " (Row(context_timestamp='1537277441'), 1),\n",
       " (Row(context_timestamp='1537260696'), 1),\n",
       " (Row(context_timestamp='1537254430'), 1),\n",
       " (Row(context_timestamp='1537237685'), 1),\n",
       " (Row(context_timestamp='1537281796'), 1),\n",
       " (Row(context_timestamp='1537274291'), 1),\n",
       " (Row(context_timestamp='1537254600'), 1),\n",
       " (Row(context_timestamp='1537264732'), 1),\n",
       " (Row(context_timestamp='1537242740'), 1),\n",
       " (Row(context_timestamp='1537258421'), 1),\n",
       " (Row(context_timestamp='1537244294'), 1),\n",
       " (Row(context_timestamp='1537265232'), 1),\n",
       " (Row(context_timestamp='1537264608'), 1),\n",
       " (Row(context_timestamp='1537259008'), 1),\n",
       " (Row(context_timestamp='1537256560'), 1),\n",
       " (Row(context_timestamp='1537279510'), 1),\n",
       " (Row(context_timestamp='1537261618'), 1),\n",
       " (Row(context_timestamp='1537235522'), 1),\n",
       " (Row(context_timestamp='1537234150'), 1),\n",
       " (Row(context_timestamp='1537278869'), 1),\n",
       " (Row(context_timestamp='1537233536'), 1),\n",
       " (Row(context_timestamp='1537247667'), 1),\n",
       " (Row(context_timestamp='1537251901'), 1),\n",
       " (Row(context_timestamp='1537271303'), 1),\n",
       " (Row(context_timestamp='1537200034'), 1),\n",
       " (Row(context_timestamp='1537276760'), 1),\n",
       " (Row(context_timestamp='1537283431'), 1),\n",
       " (Row(context_timestamp='1537265363'), 1),\n",
       " (Row(context_timestamp='1537273958'), 1),\n",
       " (Row(context_timestamp='1537200047'), 1),\n",
       " (Row(context_timestamp='1537279076'), 1),\n",
       " (Row(context_timestamp='1537258637'), 1),\n",
       " (Row(context_timestamp='1537282595'), 1),\n",
       " (Row(context_timestamp='1537263058'), 1),\n",
       " (Row(context_timestamp='1537203951'), 1),\n",
       " (Row(context_timestamp='1537252428'), 1),\n",
       " (Row(context_timestamp='1537250291'), 1),\n",
       " (Row(context_timestamp='1537233066'), 1),\n",
       " (Row(context_timestamp='1537273148'), 1),\n",
       " (Row(context_timestamp='1537251018'), 1),\n",
       " (Row(context_timestamp='1537233954'), 1),\n",
       " (Row(context_timestamp='1537262573'), 1),\n",
       " (Row(context_timestamp='1537240737'), 1),\n",
       " (Row(context_timestamp='1537248107'), 1),\n",
       " (Row(context_timestamp='1537285295'), 1),\n",
       " (Row(context_timestamp='1537275516'), 1),\n",
       " (Row(context_timestamp='1537252078'), 1),\n",
       " (Row(context_timestamp='1537275973'), 1),\n",
       " (Row(context_timestamp='1537230525'), 1),\n",
       " (Row(context_timestamp='1537251911'), 1),\n",
       " (Row(context_timestamp='1537267462'), 1),\n",
       " (Row(context_timestamp='1537256781'), 1),\n",
       " (Row(context_timestamp='1537250819'), 1),\n",
       " (Row(context_timestamp='1537252065'), 1),\n",
       " (Row(context_timestamp='1537254082'), 1),\n",
       " (Row(context_timestamp='1537279281'), 1),\n",
       " (Row(context_timestamp='1537244837'), 1),\n",
       " (Row(context_timestamp='1537245357'), 1),\n",
       " (Row(context_timestamp='1537235365'), 1),\n",
       " (Row(context_timestamp='1537250108'), 1),\n",
       " (Row(context_timestamp='1537271038'), 1),\n",
       " (Row(context_timestamp='1537237052'), 1),\n",
       " (Row(context_timestamp='1537271952'), 1),\n",
       " (Row(context_timestamp='1537285964'), 1),\n",
       " (Row(context_timestamp='1537236361'), 1),\n",
       " (Row(context_timestamp='1537256101'), 1),\n",
       " (Row(context_timestamp='1537252506'), 1),\n",
       " (Row(context_timestamp='1537227148'), 1),\n",
       " (Row(context_timestamp='1537248768'), 1),\n",
       " (Row(context_timestamp='1537282098'), 1),\n",
       " (Row(context_timestamp='1537258816'), 1),\n",
       " (Row(context_timestamp='1537245078'), 1),\n",
       " (Row(context_timestamp='1537228382'), 1),\n",
       " (Row(context_timestamp='1537252655'), 1),\n",
       " (Row(context_timestamp='1537274684'), 1),\n",
       " (Row(context_timestamp='1537264832'), 1),\n",
       " (Row(context_timestamp='1537258150'), 1),\n",
       " (Row(context_timestamp='1537273851'), 1),\n",
       " (Row(context_timestamp='1537233024'), 1),\n",
       " (Row(context_timestamp='1537279700'), 1),\n",
       " (Row(context_timestamp='1537281744'), 1),\n",
       " (Row(context_timestamp='1537272575'), 1),\n",
       " (Row(context_timestamp='1537259743'), 1),\n",
       " (Row(context_timestamp='1537282920'), 1),\n",
       " (Row(context_timestamp='1537275968'), 1),\n",
       " (Row(context_timestamp='1537240240'), 1),\n",
       " (Row(context_timestamp='1537277463'), 1),\n",
       " (Row(context_timestamp='1537253814'), 1),\n",
       " (Row(context_timestamp='1537284353'), 1),\n",
       " (Row(context_timestamp='1537248376'), 1),\n",
       " (Row(context_timestamp='1537269033'), 1),\n",
       " (Row(context_timestamp='1537277713'), 1),\n",
       " (Row(context_timestamp='1537247612'), 1),\n",
       " (Row(context_timestamp='1537271669'), 1),\n",
       " (Row(context_timestamp='1537252565'), 1),\n",
       " (Row(context_timestamp='1537259528'), 1),\n",
       " (Row(context_timestamp='1537278758'), 1),\n",
       " (Row(context_timestamp='1537267181'), 1),\n",
       " (Row(context_timestamp='1537252978'), 1),\n",
       " (Row(context_timestamp='1537234527'), 1),\n",
       " (Row(context_timestamp='1537235904'), 1),\n",
       " (Row(context_timestamp='1537257956'), 1),\n",
       " (Row(context_timestamp='1537285068'), 1),\n",
       " (Row(context_timestamp='1537206756'), 1),\n",
       " (Row(context_timestamp='1537200051'), 1),\n",
       " (Row(context_timestamp='1537249709'), 1),\n",
       " (Row(context_timestamp='1537248519'), 1),\n",
       " (Row(context_timestamp='1537255013'), 1),\n",
       " (Row(context_timestamp='1537279263'), 1),\n",
       " (Row(context_timestamp='1537234098'), 1),\n",
       " (Row(context_timestamp='1537277034'), 1),\n",
       " (Row(context_timestamp='1537282032'), 1),\n",
       " (Row(context_timestamp='1537230939'), 1),\n",
       " (Row(context_timestamp='1537277747'), 1),\n",
       " (Row(context_timestamp='1537251621'), 1),\n",
       " (Row(context_timestamp='1537265529'), 1),\n",
       " (Row(context_timestamp='1537242185'), 1),\n",
       " (Row(context_timestamp='1537251467'), 1),\n",
       " (Row(context_timestamp='1537254866'), 1),\n",
       " (Row(context_timestamp='1537244284'), 1),\n",
       " (Row(context_timestamp='1537248715'), 1),\n",
       " (Row(context_timestamp='1537278434'), 1),\n",
       " (Row(context_timestamp='1537229562'), 1),\n",
       " (Row(context_timestamp='1537249879'), 1),\n",
       " (Row(context_timestamp='1537277318'), 1),\n",
       " (Row(context_timestamp='1537283785'), 1),\n",
       " (Row(context_timestamp='1537238066'), 1),\n",
       " (Row(context_timestamp='1537285235'), 1),\n",
       " (Row(context_timestamp='1537284674'), 1),\n",
       " (Row(context_timestamp='1537270592'), 1),\n",
       " (Row(context_timestamp='1537244110'), 1),\n",
       " (Row(context_timestamp='1537237197'), 1),\n",
       " (Row(context_timestamp='1537254104'), 1),\n",
       " (Row(context_timestamp='1537255276'), 1),\n",
       " (Row(context_timestamp='1537274454'), 1),\n",
       " (Row(context_timestamp='1537263208'), 1),\n",
       " (Row(context_timestamp='1537273943'), 1),\n",
       " (Row(context_timestamp='1537238809'), 1),\n",
       " (Row(context_timestamp='1537265802'), 1),\n",
       " (Row(context_timestamp='1537268360'), 1),\n",
       " (Row(context_timestamp='1537251774'), 1),\n",
       " (Row(context_timestamp='1537249722'), 1),\n",
       " (Row(context_timestamp='1537270343'), 1),\n",
       " (Row(context_timestamp='1537263557'), 1),\n",
       " (Row(context_timestamp='1537264128'), 1),\n",
       " (Row(context_timestamp='1537247204'), 1),\n",
       " (Row(context_timestamp='1537233443'), 1),\n",
       " (Row(context_timestamp='1537265172'), 1),\n",
       " (Row(context_timestamp='1537252224'), 1),\n",
       " (Row(context_timestamp='1537265904'), 1),\n",
       " (Row(context_timestamp='1537241342'), 1),\n",
       " (Row(context_timestamp='1537256702'), 1),\n",
       " (Row(context_timestamp='1537245088'), 1),\n",
       " (Row(context_timestamp='1537242190'), 1),\n",
       " (Row(context_timestamp='1537228077'), 1),\n",
       " (Row(context_timestamp='1537252193'), 1),\n",
       " (Row(context_timestamp='1537249563'), 1),\n",
       " (Row(context_timestamp='1537233194'), 1),\n",
       " (Row(context_timestamp='1537268226'), 1),\n",
       " (Row(context_timestamp='1537246689'), 1),\n",
       " (Row(context_timestamp='1537248195'), 1),\n",
       " (Row(context_timestamp='1537204055'), 1),\n",
       " (Row(context_timestamp='1537236752'), 1),\n",
       " (Row(context_timestamp='1537270253'), 1),\n",
       " (Row(context_timestamp='1537278092'), 1),\n",
       " (Row(context_timestamp='1537241766'), 1),\n",
       " (Row(context_timestamp='1537240050'), 1),\n",
       " (Row(context_timestamp='1537258072'), 1),\n",
       " (Row(context_timestamp='1537226221'), 1),\n",
       " (Row(context_timestamp='1537272083'), 1),\n",
       " (Row(context_timestamp='1537251572'), 1),\n",
       " (Row(context_timestamp='1537232815'), 1),\n",
       " (Row(context_timestamp='1537251404'), 1),\n",
       " (Row(context_timestamp='1537251404'), 1),\n",
       " (Row(context_timestamp='1537261935'), 1),\n",
       " (Row(context_timestamp='1537274004'), 1),\n",
       " (Row(context_timestamp='1537280113'), 1),\n",
       " (Row(context_timestamp='1537262684'), 1),\n",
       " (Row(context_timestamp='1537249577'), 1),\n",
       " (Row(context_timestamp='1537238190'), 1),\n",
       " (Row(context_timestamp='1537252553'), 1),\n",
       " (Row(context_timestamp='1537242361'), 1),\n",
       " (Row(context_timestamp='1537253850'), 1),\n",
       " (Row(context_timestamp='1537283676'), 1),\n",
       " (Row(context_timestamp='1537251712'), 1),\n",
       " (Row(context_timestamp='1537279508'), 1),\n",
       " (Row(context_timestamp='1537247267'), 1),\n",
       " (Row(context_timestamp='1537237935'), 1),\n",
       " (Row(context_timestamp='1537280063'), 1),\n",
       " (Row(context_timestamp='1537264514'), 1),\n",
       " (Row(context_timestamp='1537246811'), 1),\n",
       " (Row(context_timestamp='1537282568'), 1),\n",
       " (Row(context_timestamp='1537248335'), 1),\n",
       " (Row(context_timestamp='1537267686'), 1),\n",
       " (Row(context_timestamp='1537260608'), 1),\n",
       " (Row(context_timestamp='1537268997'), 1),\n",
       " (Row(context_timestamp='1537233389'), 1),\n",
       " (Row(context_timestamp='1537237697'), 1),\n",
       " (Row(context_timestamp='1537282004'), 1),\n",
       " (Row(context_timestamp='1537251170'), 1),\n",
       " (Row(context_timestamp='1537284994'), 1),\n",
       " (Row(context_timestamp='1537280343'), 1),\n",
       " (Row(context_timestamp='1537281214'), 1),\n",
       " (Row(context_timestamp='1537207441'), 1),\n",
       " (Row(context_timestamp='1537246943'), 1),\n",
       " (Row(context_timestamp='1537282148'), 1),\n",
       " (Row(context_timestamp='1537243368'), 1),\n",
       " (Row(context_timestamp='1537237741'), 1),\n",
       " (Row(context_timestamp='1537254344'), 1),\n",
       " (Row(context_timestamp='1537223253'), 1),\n",
       " (Row(context_timestamp='1537237591'), 1),\n",
       " (Row(context_timestamp='1537273119'), 1),\n",
       " (Row(context_timestamp='1537270287'), 1),\n",
       " (Row(context_timestamp='1537278642'), 1),\n",
       " (Row(context_timestamp='1537285462'), 1),\n",
       " (Row(context_timestamp='1537271391'), 1),\n",
       " (Row(context_timestamp='1537274318'), 1),\n",
       " (Row(context_timestamp='1537277596'), 1),\n",
       " (Row(context_timestamp='1537254652'), 1),\n",
       " (Row(context_timestamp='1537246652'), 1),\n",
       " (Row(context_timestamp='1537254458'), 1),\n",
       " (Row(context_timestamp='1537232187'), 1),\n",
       " (Row(context_timestamp='1537275435'), 1),\n",
       " (Row(context_timestamp='1537250952'), 1),\n",
       " (Row(context_timestamp='1537252218'), 1),\n",
       " (Row(context_timestamp='1537270756'), 1),\n",
       " (Row(context_timestamp='1537283358'), 1),\n",
       " (Row(context_timestamp='1537256082'), 1),\n",
       " (Row(context_timestamp='1537248633'), 1),\n",
       " (Row(context_timestamp='1537267887'), 1),\n",
       " (Row(context_timestamp='1537245516'), 1),\n",
       " (Row(context_timestamp='1537261713'), 1),\n",
       " (Row(context_timestamp='1537273701'), 1),\n",
       " (Row(context_timestamp='1537243869'), 1),\n",
       " (Row(context_timestamp='1537240036'), 1),\n",
       " (Row(context_timestamp='1537275123'), 1),\n",
       " (Row(context_timestamp='1537269238'), 1),\n",
       " (Row(context_timestamp='1537280185'), 1),\n",
       " (Row(context_timestamp='1537271608'), 1),\n",
       " (Row(context_timestamp='1537242410'), 1),\n",
       " (Row(context_timestamp='1537280805'), 1),\n",
       " (Row(context_timestamp='1537253603'), 1),\n",
       " (Row(context_timestamp='1537244856'), 1),\n",
       " (Row(context_timestamp='1537254673'), 1),\n",
       " (Row(context_timestamp='1537281961'), 1),\n",
       " (Row(context_timestamp='1537280582'), 1),\n",
       " (Row(context_timestamp='1537251067'), 1),\n",
       " (Row(context_timestamp='1537252355'), 1),\n",
       " (Row(context_timestamp='1537237121'), 1),\n",
       " (Row(context_timestamp='1537244020'), 1),\n",
       " (Row(context_timestamp='1537280422'), 1),\n",
       " (Row(context_timestamp='1537251505'), 1),\n",
       " (Row(context_timestamp='1537255787'), 1),\n",
       " (Row(context_timestamp='1537276819'), 1),\n",
       " (Row(context_timestamp='1537249920'), 1),\n",
       " (Row(context_timestamp='1537245267'), 1),\n",
       " (Row(context_timestamp='1537275785'), 1),\n",
       " (Row(context_timestamp='1537242675'), 1),\n",
       " (Row(context_timestamp='1537268050'), 1),\n",
       " (Row(context_timestamp='1537261074'), 1),\n",
       " (Row(context_timestamp='1537266491'), 1),\n",
       " (Row(context_timestamp='1537216461'), 1),\n",
       " (Row(context_timestamp='1537277095'), 1),\n",
       " (Row(context_timestamp='1537226033'), 1),\n",
       " (Row(context_timestamp='1537282431'), 1),\n",
       " (Row(context_timestamp='1537235647'), 1),\n",
       " (Row(context_timestamp='1537275682'), 1),\n",
       " (Row(context_timestamp='1537254529'), 1),\n",
       " (Row(context_timestamp='1537255857'), 1),\n",
       " (Row(context_timestamp='1537258979'), 1),\n",
       " (Row(context_timestamp='1537256942'), 1),\n",
       " (Row(context_timestamp='1537249147'), 1),\n",
       " (Row(context_timestamp='1537248710'), 1),\n",
       " (Row(context_timestamp='1537230098'), 1),\n",
       " (Row(context_timestamp='1537260451'), 1),\n",
       " (Row(context_timestamp='1537272864'), 1),\n",
       " (Row(context_timestamp='1537231385'), 1),\n",
       " (Row(context_timestamp='1537231823'), 1),\n",
       " (Row(context_timestamp='1537260273'), 1),\n",
       " (Row(context_timestamp='1537283778'), 1),\n",
       " (Row(context_timestamp='1537260911'), 1),\n",
       " (Row(context_timestamp='1537228318'), 1),\n",
       " (Row(context_timestamp='1537264430'), 1),\n",
       " (Row(context_timestamp='1537241897'), 1),\n",
       " (Row(context_timestamp='1537253940'), 1),\n",
       " (Row(context_timestamp='1537260237'), 1),\n",
       " (Row(context_timestamp='1537242120'), 1),\n",
       " (Row(context_timestamp='1537250303'), 1),\n",
       " (Row(context_timestamp='1537201855'), 1),\n",
       " (Row(context_timestamp='1537253531'), 1),\n",
       " (Row(context_timestamp='1537280436'), 1),\n",
       " (Row(context_timestamp='1537269916'), 1),\n",
       " (Row(context_timestamp='1537280932'), 1),\n",
       " (Row(context_timestamp='1537248042'), 1),\n",
       " (Row(context_timestamp='1537263680'), 1),\n",
       " (Row(context_timestamp='1537259288'), 1),\n",
       " (Row(context_timestamp='1537283333'), 1),\n",
       " (Row(context_timestamp='1537262189'), 1),\n",
       " (Row(context_timestamp='1537281971'), 1),\n",
       " (Row(context_timestamp='1537264197'), 1),\n",
       " (Row(context_timestamp='1537242394'), 1),\n",
       " (Row(context_timestamp='1537281844'), 1),\n",
       " (Row(context_timestamp='1537239413'), 1),\n",
       " (Row(context_timestamp='1537269989'), 1),\n",
       " (Row(context_timestamp='1537234897'), 1),\n",
       " (Row(context_timestamp='1537252130'), 1),\n",
       " (Row(context_timestamp='1537278579'), 1),\n",
       " (Row(context_timestamp='1537242057'), 1),\n",
       " (Row(context_timestamp='1537265388'), 1),\n",
       " (Row(context_timestamp='1537259406'), 1),\n",
       " (Row(context_timestamp='1537244101'), 1),\n",
       " (Row(context_timestamp='1537278890'), 1),\n",
       " (Row(context_timestamp='1537276413'), 1),\n",
       " (Row(context_timestamp='1537246344'), 1),\n",
       " (Row(context_timestamp='1537264204'), 1),\n",
       " (Row(context_timestamp='1537282488'), 1),\n",
       " (Row(context_timestamp='1537261185'), 1),\n",
       " (Row(context_timestamp='1537243653'), 1),\n",
       " (Row(context_timestamp='1537249045'), 1),\n",
       " (Row(context_timestamp='1537249257'), 1),\n",
       " (Row(context_timestamp='1537253232'), 1),\n",
       " (Row(context_timestamp='1537261605'), 1),\n",
       " (Row(context_timestamp='1537234566'), 1),\n",
       " (Row(context_timestamp='1537285993'), 1),\n",
       " (Row(context_timestamp='1537241923'), 1),\n",
       " (Row(context_timestamp='1537260312'), 1),\n",
       " (Row(context_timestamp='1537250200'), 1),\n",
       " (Row(context_timestamp='1537257742'), 1),\n",
       " (Row(context_timestamp='1537267016'), 1),\n",
       " (Row(context_timestamp='1537254155'), 1),\n",
       " (Row(context_timestamp='1537269977'), 1),\n",
       " (Row(context_timestamp='1537272899'), 1),\n",
       " (Row(context_timestamp='1537253922'), 1),\n",
       " (Row(context_timestamp='1537251043'), 1),\n",
       " (Row(context_timestamp='1537246425'), 1),\n",
       " (Row(context_timestamp='1537236915'), 1),\n",
       " (Row(context_timestamp='1537249310'), 1),\n",
       " (Row(context_timestamp='1537282837'), 1),\n",
       " (Row(context_timestamp='1537254990'), 1),\n",
       " (Row(context_timestamp='1537261370'), 1),\n",
       " (Row(context_timestamp='1537264903'), 1),\n",
       " (Row(context_timestamp='1537271969'), 1),\n",
       " (Row(context_timestamp='1537238356'), 1),\n",
       " (Row(context_timestamp='1537271860'), 1),\n",
       " (Row(context_timestamp='1537235124'), 1),\n",
       " (Row(context_timestamp='1537277735'), 1),\n",
       " (Row(context_timestamp='1537252083'), 1),\n",
       " (Row(context_timestamp='1537281234'), 1),\n",
       " (Row(context_timestamp='1537269306'), 1),\n",
       " (Row(context_timestamp='1537277670'), 1),\n",
       " (Row(context_timestamp='1537241943'), 1),\n",
       " (Row(context_timestamp='1537267942'), 1),\n",
       " (Row(context_timestamp='1537239053'), 1),\n",
       " (Row(context_timestamp='1537273975'), 1),\n",
       " (Row(context_timestamp='1537281195'), 1),\n",
       " (Row(context_timestamp='1537240198'), 1),\n",
       " (Row(context_timestamp='1537201665'), 1),\n",
       " (Row(context_timestamp='1537249522'), 1),\n",
       " (Row(context_timestamp='1537251597'), 1),\n",
       " (Row(context_timestamp='1537253311'), 1),\n",
       " (Row(context_timestamp='1537259176'), 1),\n",
       " (Row(context_timestamp='1537236514'), 1),\n",
       " (Row(context_timestamp='1537260994'), 1),\n",
       " (Row(context_timestamp='1537251049'), 1),\n",
       " (Row(context_timestamp='1537243900'), 1),\n",
       " (Row(context_timestamp='1537247371'), 1),\n",
       " (Row(context_timestamp='1537235391'), 1),\n",
       " (Row(context_timestamp='1537249120'), 1),\n",
       " (Row(context_timestamp='1537250174'), 1),\n",
       " (Row(context_timestamp='1537250387'), 1),\n",
       " (Row(context_timestamp='1537286169'), 1),\n",
       " (Row(context_timestamp='1537285784'), 1),\n",
       " (Row(context_timestamp='1537244193'), 1),\n",
       " (Row(context_timestamp='1537286170'), 1),\n",
       " (Row(context_timestamp='1537254847'), 1),\n",
       " (Row(context_timestamp='1537262863'), 1),\n",
       " (Row(context_timestamp='1537272466'), 1),\n",
       " (Row(context_timestamp='1537258755'), 1),\n",
       " (Row(context_timestamp='1537265369'), 1),\n",
       " (Row(context_timestamp='1537244193'), 1),\n",
       " (Row(context_timestamp='1537249131'), 1),\n",
       " (Row(context_timestamp='1537285131'), 1),\n",
       " (Row(context_timestamp='1537241917'), 1),\n",
       " (Row(context_timestamp='1537280209'), 1),\n",
       " (Row(context_timestamp='1537276374'), 1),\n",
       " (Row(context_timestamp='1537277434'), 1),\n",
       " (Row(context_timestamp='1537249324'), 1),\n",
       " (Row(context_timestamp='1537233313'), 1),\n",
       " (Row(context_timestamp='1537279801'), 1),\n",
       " (Row(context_timestamp='1537233170'), 1),\n",
       " (Row(context_timestamp='1537241217'), 1),\n",
       " (Row(context_timestamp='1537245960'), 1),\n",
       " (Row(context_timestamp='1537234598'), 1),\n",
       " (Row(context_timestamp='1537237689'), 1),\n",
       " (Row(context_timestamp='1537286004'), 1),\n",
       " (Row(context_timestamp='1537235717'), 1),\n",
       " (Row(context_timestamp='1537263849'), 1),\n",
       " (Row(context_timestamp='1537263870'), 1),\n",
       " (Row(context_timestamp='1537271568'), 1),\n",
       " (Row(context_timestamp='1537274427'), 1),\n",
       " (Row(context_timestamp='1537251480'), 1),\n",
       " (Row(context_timestamp='1537234271'), 1),\n",
       " (Row(context_timestamp='1537244619'), 1),\n",
       " (Row(context_timestamp='1537257487'), 1),\n",
       " (Row(context_timestamp='1537235395'), 1),\n",
       " (Row(context_timestamp='1537277968'), 1),\n",
       " (Row(context_timestamp='1537238713'), 1),\n",
       " (Row(context_timestamp='1537235865'), 1),\n",
       " (Row(context_timestamp='1537250937'), 1),\n",
       " (Row(context_timestamp='1537269935'), 1),\n",
       " (Row(context_timestamp='1537274834'), 1),\n",
       " (Row(context_timestamp='1537247988'), 1),\n",
       " (Row(context_timestamp='1537270547'), 1),\n",
       " (Row(context_timestamp='1537210772'), 1),\n",
       " (Row(context_timestamp='1537285993'), 1),\n",
       " (Row(context_timestamp='1537238626'), 1),\n",
       " (Row(context_timestamp='1537244851'), 1),\n",
       " (Row(context_timestamp='1537278287'), 1),\n",
       " (Row(context_timestamp='1537280054'), 1),\n",
       " (Row(context_timestamp='1537237178'), 1),\n",
       " (Row(context_timestamp='1537254351'), 1),\n",
       " (Row(context_timestamp='1537254428'), 1),\n",
       " (Row(context_timestamp='1537240878'), 1),\n",
       " (Row(context_timestamp='1537285543'), 1),\n",
       " (Row(context_timestamp='1537271400'), 1),\n",
       " (Row(context_timestamp='1537246920'), 1),\n",
       " (Row(context_timestamp='1537248115'), 1),\n",
       " (Row(context_timestamp='1537275874'), 1),\n",
       " (Row(context_timestamp='1537269603'), 1),\n",
       " (Row(context_timestamp='1537278941'), 1),\n",
       " (Row(context_timestamp='1537285764'), 1),\n",
       " (Row(context_timestamp='1537276934'), 1),\n",
       " (Row(context_timestamp='1537254966'), 1),\n",
       " (Row(context_timestamp='1537218637'), 1),\n",
       " (Row(context_timestamp='1537268802'), 1),\n",
       " (Row(context_timestamp='1537241157'), 1),\n",
       " (Row(context_timestamp='1537262188'), 1),\n",
       " (Row(context_timestamp='1537270674'), 1),\n",
       " (Row(context_timestamp='1537249777'), 1),\n",
       " (Row(context_timestamp='1537251716'), 1),\n",
       " (Row(context_timestamp='1537272821'), 1),\n",
       " (Row(context_timestamp='1537251429'), 1),\n",
       " (Row(context_timestamp='1537271884'), 1),\n",
       " (Row(context_timestamp='1537250800'), 1),\n",
       " (Row(context_timestamp='1537225910'), 1),\n",
       " (Row(context_timestamp='1537259572'), 1),\n",
       " (Row(context_timestamp='1537282752'), 1),\n",
       " (Row(context_timestamp='1537252843'), 1),\n",
       " (Row(context_timestamp='1537279290'), 1),\n",
       " (Row(context_timestamp='1537269274'), 1),\n",
       " (Row(context_timestamp='1537232930'), 1),\n",
       " (Row(context_timestamp='1537250710'), 1),\n",
       " (Row(context_timestamp='1537230977'), 1),\n",
       " (Row(context_timestamp='1537239684'), 1),\n",
       " (Row(context_timestamp='1537245723'), 1),\n",
       " (Row(context_timestamp='1537284819'), 1),\n",
       " (Row(context_timestamp='1537235037'), 1),\n",
       " (Row(context_timestamp='1537243046'), 1),\n",
       " (Row(context_timestamp='1537253113'), 1),\n",
       " (Row(context_timestamp='1537237437'), 1),\n",
       " (Row(context_timestamp='1537263816'), 1),\n",
       " (Row(context_timestamp='1537237605'), 1),\n",
       " (Row(context_timestamp='1537252259'), 1),\n",
       " (Row(context_timestamp='1537247552'), 1),\n",
       " (Row(context_timestamp='1537256048'), 1),\n",
       " (Row(context_timestamp='1537233431'), 1),\n",
       " (Row(context_timestamp='1537258617'), 1),\n",
       " (Row(context_timestamp='1537270263'), 1),\n",
       " (Row(context_timestamp='1537232421'), 1),\n",
       " (Row(context_timestamp='1537257666'), 1),\n",
       " (Row(context_timestamp='1537231869'), 1),\n",
       " (Row(context_timestamp='1537262532'), 1),\n",
       " (Row(context_timestamp='1537247671'), 1),\n",
       " (Row(context_timestamp='1537274873'), 1),\n",
       " (Row(context_timestamp='1537249860'), 1),\n",
       " (Row(context_timestamp='1537272379'), 1),\n",
       " (Row(context_timestamp='1537273305'), 1),\n",
       " (Row(context_timestamp='1537243289'), 1),\n",
       " (Row(context_timestamp='1537252988'), 1),\n",
       " (Row(context_timestamp='1537254416'), 1),\n",
       " (Row(context_timestamp='1537279233'), 1),\n",
       " (Row(context_timestamp='1537272580'), 1),\n",
       " (Row(context_timestamp='1537255252'), 1),\n",
       " (Row(context_timestamp='1537243501'), 1),\n",
       " (Row(context_timestamp='1537278496'), 1),\n",
       " (Row(context_timestamp='1537283990'), 1),\n",
       " (Row(context_timestamp='1537275776'), 1),\n",
       " (Row(context_timestamp='1537274839'), 1),\n",
       " (Row(context_timestamp='1537240198'), 1),\n",
       " (Row(context_timestamp='1537246583'), 1),\n",
       " (Row(context_timestamp='1537279663'), 1),\n",
       " (Row(context_timestamp='1537232438'), 1),\n",
       " (Row(context_timestamp='1537262394'), 1),\n",
       " (Row(context_timestamp='1537232014'), 1),\n",
       " (Row(context_timestamp='1537265345'), 1),\n",
       " (Row(context_timestamp='1537202426'), 1),\n",
       " (Row(context_timestamp='1537282874'), 1),\n",
       " (Row(context_timestamp='1537242065'), 1),\n",
       " (Row(context_timestamp='1537236604'), 1),\n",
       " (Row(context_timestamp='1537255855'), 1),\n",
       " (Row(context_timestamp='1537278017'), 1),\n",
       " (Row(context_timestamp='1537253134'), 1),\n",
       " (Row(context_timestamp='1537238893'), 1),\n",
       " (Row(context_timestamp='1537267310'), 1),\n",
       " (Row(context_timestamp='1537252974'), 1),\n",
       " (Row(context_timestamp='1537236237'), 1),\n",
       " (Row(context_timestamp='1537236079'), 1),\n",
       " (Row(context_timestamp='1537239811'), 1),\n",
       " (Row(context_timestamp='1537255047'), 1),\n",
       " (Row(context_timestamp='1537270637'), 1),\n",
       " (Row(context_timestamp='1537255308'), 1),\n",
       " (Row(context_timestamp='1537231865'), 1),\n",
       " (Row(context_timestamp='1537252677'), 1),\n",
       " (Row(context_timestamp='1537234504'), 1),\n",
       " (Row(context_timestamp='1537235528'), 1),\n",
       " (Row(context_timestamp='1537248254'), 1),\n",
       " (Row(context_timestamp='1537260463'), 1),\n",
       " (Row(context_timestamp='1537229879'), 1),\n",
       " (Row(context_timestamp='1537253033'), 1),\n",
       " (Row(context_timestamp='1537285402'), 1),\n",
       " (Row(context_timestamp='1537237877'), 1),\n",
       " (Row(context_timestamp='1537275372'), 1),\n",
       " (Row(context_timestamp='1537279634'), 1),\n",
       " (Row(context_timestamp='1537271539'), 1),\n",
       " (Row(context_timestamp='1537241884'), 1),\n",
       " (Row(context_timestamp='1537258471'), 1),\n",
       " (Row(context_timestamp='1537239429'), 1),\n",
       " (Row(context_timestamp='1537243604'), 1),\n",
       " (Row(context_timestamp='1537254165'), 1),\n",
       " (Row(context_timestamp='1537256345'), 1),\n",
       " (Row(context_timestamp='1537240079'), 1),\n",
       " (Row(context_timestamp='1537268163'), 1),\n",
       " (Row(context_timestamp='1537275000'), 1),\n",
       " (Row(context_timestamp='1537258525'), 1),\n",
       " (Row(context_timestamp='1537249266'), 1),\n",
       " (Row(context_timestamp='1537262502'), 1),\n",
       " (Row(context_timestamp='1537249859'), 1),\n",
       " (Row(context_timestamp='1537248993'), 1),\n",
       " (Row(context_timestamp='1537273930'), 1),\n",
       " (Row(context_timestamp='1537265568'), 1),\n",
       " (Row(context_timestamp='1537248503'), 1),\n",
       " (Row(context_timestamp='1537237499'), 1),\n",
       " (Row(context_timestamp='1537274733'), 1),\n",
       " (Row(context_timestamp='1537245471'), 1),\n",
       " (Row(context_timestamp='1537230008'), 1),\n",
       " (Row(context_timestamp='1537229569'), 1),\n",
       " (Row(context_timestamp='1537241870'), 1),\n",
       " (Row(context_timestamp='1537248030'), 1),\n",
       " (Row(context_timestamp='1537242655'), 1),\n",
       " (Row(context_timestamp='1537270549'), 1),\n",
       " (Row(context_timestamp='1537247481'), 1),\n",
       " (Row(context_timestamp='1537243450'), 1),\n",
       " (Row(context_timestamp='1537257151'), 1),\n",
       " (Row(context_timestamp='1537275995'), 1),\n",
       " (Row(context_timestamp='1537248381'), 1),\n",
       " (Row(context_timestamp='1537253827'), 1),\n",
       " (Row(context_timestamp='1537273341'), 1),\n",
       " (Row(context_timestamp='1537257761'), 1),\n",
       " (Row(context_timestamp='1537259095'), 1),\n",
       " (Row(context_timestamp='1537247517'), 1),\n",
       " (Row(context_timestamp='1537280248'), 1),\n",
       " (Row(context_timestamp='1537273512'), 1),\n",
       " (Row(context_timestamp='1537275647'), 1),\n",
       " (Row(context_timestamp='1537233221'), 1),\n",
       " (Row(context_timestamp='1537240985'), 1),\n",
       " (Row(context_timestamp='1537244631'), 1),\n",
       " (Row(context_timestamp='1537285484'), 1),\n",
       " (Row(context_timestamp='1537251010'), 1),\n",
       " (Row(context_timestamp='1537280948'), 1),\n",
       " (Row(context_timestamp='1537231916'), 1),\n",
       " (Row(context_timestamp='1537232075'), 1),\n",
       " (Row(context_timestamp='1537242296'), 1),\n",
       " (Row(context_timestamp='1537236104'), 1),\n",
       " (Row(context_timestamp='1537267887'), 1),\n",
       " (Row(context_timestamp='1537278887'), 1),\n",
       " (Row(context_timestamp='1537285060'), 1),\n",
       " (Row(context_timestamp='1537265856'), 1),\n",
       " (Row(context_timestamp='1537283019'), 1),\n",
       " (Row(context_timestamp='1537271614'), 1),\n",
       " (Row(context_timestamp='1537236026'), 1),\n",
       " (Row(context_timestamp='1537233127'), 1),\n",
       " (Row(context_timestamp='1537283795'), 1),\n",
       " (Row(context_timestamp='1537280577'), 1),\n",
       " (Row(context_timestamp='1537281265'), 1),\n",
       " (Row(context_timestamp='1537279863'), 1),\n",
       " (Row(context_timestamp='1537267490'), 1),\n",
       " (Row(context_timestamp='1537260265'), 1),\n",
       " (Row(context_timestamp='1537248795'), 1),\n",
       " (Row(context_timestamp='1537254493'), 1),\n",
       " (Row(context_timestamp='1537274010'), 1),\n",
       " (Row(context_timestamp='1537263942'), 1),\n",
       " (Row(context_timestamp='1537257807'), 1),\n",
       " (Row(context_timestamp='1537267570'), 1),\n",
       " (Row(context_timestamp='1537251449'), 1),\n",
       " (Row(context_timestamp='1537241273'), 1),\n",
       " (Row(context_timestamp='1537274206'), 1),\n",
       " (Row(context_timestamp='1537250826'), 1),\n",
       " (Row(context_timestamp='1537261395'), 1),\n",
       " (Row(context_timestamp='1537201289'), 1),\n",
       " (Row(context_timestamp='1537273432'), 1),\n",
       " (Row(context_timestamp='1537245230'), 1),\n",
       " (Row(context_timestamp='1537226217'), 1),\n",
       " (Row(context_timestamp='1537255788'), 1),\n",
       " (Row(context_timestamp='1537276820'), 1),\n",
       " (Row(context_timestamp='1537239765'), 1),\n",
       " (Row(context_timestamp='1537262288'), 1),\n",
       " (Row(context_timestamp='1537282288'), 1),\n",
       " (Row(context_timestamp='1537239831'), 1),\n",
       " (Row(context_timestamp='1537282830'), 1),\n",
       " (Row(context_timestamp='1537229990'), 1),\n",
       " (Row(context_timestamp='1537229779'), 1),\n",
       " (Row(context_timestamp='1537271391'), 1),\n",
       " (Row(context_timestamp='1537272130'), 1),\n",
       " (Row(context_timestamp='1537267719'), 1),\n",
       " (Row(context_timestamp='1537268878'), 1),\n",
       " (Row(context_timestamp='1537253432'), 1),\n",
       " (Row(context_timestamp='1537234704'), 1),\n",
       " (Row(context_timestamp='1537270112'), 1),\n",
       " (Row(context_timestamp='1537276792'), 1),\n",
       " (Row(context_timestamp='1537259755'), 1),\n",
       " (Row(context_timestamp='1537245446'), 1),\n",
       " (Row(context_timestamp='1537241125'), 1),\n",
       " (Row(context_timestamp='1537237029'), 1),\n",
       " (Row(context_timestamp='1537248159'), 1),\n",
       " (Row(context_timestamp='1537236944'), 1),\n",
       " (Row(context_timestamp='1537242461'), 1),\n",
       " (Row(context_timestamp='1537262757'), 1),\n",
       " (Row(context_timestamp='1537239548'), 1),\n",
       " (Row(context_timestamp='1537235589'), 1),\n",
       " (Row(context_timestamp='1537260074'), 1),\n",
       " (Row(context_timestamp='1537242670'), 1),\n",
       " (Row(context_timestamp='1537260288'), 1),\n",
       " (Row(context_timestamp='1537273299'), 1),\n",
       " (Row(context_timestamp='1537270821'), 1),\n",
       " (Row(context_timestamp='1537271758'), 1),\n",
       " (Row(context_timestamp='1537239467'), 1),\n",
       " (Row(context_timestamp='1537273134'), 1),\n",
       " (Row(context_timestamp='1537232956'), 1),\n",
       " (Row(context_timestamp='1537204049'), 1),\n",
       " (Row(context_timestamp='1537267126'), 1),\n",
       " (Row(context_timestamp='1537256820'), 1),\n",
       " (Row(context_timestamp='1537236735'), 1),\n",
       " (Row(context_timestamp='1537256121'), 1),\n",
       " (Row(context_timestamp='1537264757'), 1),\n",
       " (Row(context_timestamp='1537232506'), 1),\n",
       " (Row(context_timestamp='1537257641'), 1),\n",
       " (Row(context_timestamp='1537255044'), 1),\n",
       " (Row(context_timestamp='1537283370'), 1),\n",
       " (Row(context_timestamp='1537257376'), 1),\n",
       " (Row(context_timestamp='1537275078'), 1),\n",
       " (Row(context_timestamp='1537270804'), 1),\n",
       " (Row(context_timestamp='1537256921'), 1),\n",
       " (Row(context_timestamp='1537239291'), 1),\n",
       " (Row(context_timestamp='1537271417'), 1),\n",
       " (Row(context_timestamp='1537271664'), 1),\n",
       " (Row(context_timestamp='1537279942'), 1),\n",
       " (Row(context_timestamp='1537262756'), 1),\n",
       " (Row(context_timestamp='1537207319'), 1),\n",
       " (Row(context_timestamp='1537250311'), 1),\n",
       " (Row(context_timestamp='1537238036'), 1),\n",
       " (Row(context_timestamp='1537250294'), 1),\n",
       " (Row(context_timestamp='1537238818'), 1),\n",
       " (Row(context_timestamp='1537280002'), 1),\n",
       " (Row(context_timestamp='1537266993'), 1),\n",
       " (Row(context_timestamp='1537271665'), 1),\n",
       " (Row(context_timestamp='1537262840'), 1),\n",
       " (Row(context_timestamp='1537284374'), 1),\n",
       " (Row(context_timestamp='1537250823'), 1),\n",
       " (Row(context_timestamp='1537228507'), 1),\n",
       " (Row(context_timestamp='1537271819'), 1),\n",
       " (Row(context_timestamp='1537267866'), 1),\n",
       " (Row(context_timestamp='1537276924'), 1),\n",
       " (Row(context_timestamp='1537235627'), 1),\n",
       " (Row(context_timestamp='1537278186'), 1),\n",
       " (Row(context_timestamp='1537253892'), 1),\n",
       " (Row(context_timestamp='1537236518'), 1),\n",
       " (Row(context_timestamp='1537228397'), 1),\n",
       " (Row(context_timestamp='1537259085'), 1),\n",
       " (Row(context_timestamp='1537254182'), 1),\n",
       " (Row(context_timestamp='1537272586'), 1),\n",
       " (Row(context_timestamp='1537283109'), 1),\n",
       " (Row(context_timestamp='1537246832'), 1),\n",
       " (Row(context_timestamp='1537255818'), 1),\n",
       " (Row(context_timestamp='1537262406'), 1),\n",
       " (Row(context_timestamp='1537253951'), 1),\n",
       " (Row(context_timestamp='1537237969'), 1),\n",
       " (Row(context_timestamp='1537237753'), 1),\n",
       " (Row(context_timestamp='1537251052'), 1),\n",
       " (Row(context_timestamp='1537283427'), 1),\n",
       " (Row(context_timestamp='1537252101'), 1),\n",
       " (Row(context_timestamp='1537250854'), 1),\n",
       " (Row(context_timestamp='1537248584'), 1),\n",
       " (Row(context_timestamp='1537280711'), 1),\n",
       " (Row(context_timestamp='1537284136'), 1),\n",
       " (Row(context_timestamp='1537284370'), 1),\n",
       " (Row(context_timestamp='1537257087'), 1),\n",
       " (Row(context_timestamp='1537275394'), 1),\n",
       " (Row(context_timestamp='1537247245'), 1),\n",
       " (Row(context_timestamp='1537244177'), 1),\n",
       " (Row(context_timestamp='1537272310'), 1),\n",
       " (Row(context_timestamp='1537251247'), 1),\n",
       " (Row(context_timestamp='1537240056'), 1),\n",
       " (Row(context_timestamp='1537242487'), 1),\n",
       " (Row(context_timestamp='1537233108'), 1),\n",
       " (Row(context_timestamp='1537281965'), 1),\n",
       " (Row(context_timestamp='1537275494'), 1),\n",
       " (Row(context_timestamp='1537285168'), 1),\n",
       " (Row(context_timestamp='1537262188'), 1),\n",
       " (Row(context_timestamp='1537253511'), 1),\n",
       " (Row(context_timestamp='1537268596'), 1),\n",
       " (Row(context_timestamp='1537268432'), 1),\n",
       " (Row(context_timestamp='1537261484'), 1),\n",
       " (Row(context_timestamp='1537276367'), 1),\n",
       " (Row(context_timestamp='1537241506'), 1),\n",
       " (Row(context_timestamp='1537286104'), 1),\n",
       " (Row(context_timestamp='1537235655'), 1),\n",
       " (Row(context_timestamp='1537235489'), 1),\n",
       " (Row(context_timestamp='1537227219'), 1),\n",
       " (Row(context_timestamp='1537233285'), 1),\n",
       " (Row(context_timestamp='1537257312'), 1),\n",
       " (Row(context_timestamp='1537279947'), 1),\n",
       " (Row(context_timestamp='1537263744'), 1),\n",
       " (Row(context_timestamp='1537278927'), 1),\n",
       " (Row(context_timestamp='1537241910'), 1),\n",
       " (Row(context_timestamp='1537256638'), 1),\n",
       " (Row(context_timestamp='1537274195'), 1),\n",
       " (Row(context_timestamp='1537271704'), 1),\n",
       " (Row(context_timestamp='1537274575'), 1),\n",
       " (Row(context_timestamp='1537230325'), 1),\n",
       " (Row(context_timestamp='1537280398'), 1),\n",
       " (Row(context_timestamp='1537270675'), 1),\n",
       " (Row(context_timestamp='1537238875'), 1),\n",
       " (Row(context_timestamp='1537261695'), 1),\n",
       " (Row(context_timestamp='1537247581'), 1),\n",
       " (Row(context_timestamp='1537264770'), 1),\n",
       " (Row(context_timestamp='1537250535'), 1),\n",
       " (Row(context_timestamp='1537267367'), 1),\n",
       " (Row(context_timestamp='1537260234'), 1),\n",
       " (Row(context_timestamp='1537266984'), 1),\n",
       " (Row(context_timestamp='1537236209'), 1),\n",
       " (Row(context_timestamp='1537284329'), 1),\n",
       " (Row(context_timestamp='1537281189'), 1),\n",
       " (Row(context_timestamp='1537271745'), 1),\n",
       " (Row(context_timestamp='1537241974'), 1),\n",
       " (Row(context_timestamp='1537216719'), 1),\n",
       " (Row(context_timestamp='1537259589'), 1),\n",
       " (Row(context_timestamp='1537248094'), 1),\n",
       " (Row(context_timestamp='1537271860'), 1),\n",
       " (Row(context_timestamp='1537279325'), 1),\n",
       " (Row(context_timestamp='1537245221'), 1),\n",
       " (Row(context_timestamp='1537263272'), 1),\n",
       " (Row(context_timestamp='1537236420'), 1),\n",
       " (Row(context_timestamp='1537251833'), 1),\n",
       " (Row(context_timestamp='1537249113'), 1),\n",
       " (Row(context_timestamp='1537252418'), 1),\n",
       " (Row(context_timestamp='1537263862'), 1),\n",
       " (Row(context_timestamp='1537241128'), 1),\n",
       " (Row(context_timestamp='1537268270'), 1),\n",
       " (Row(context_timestamp='1537249783'), 1),\n",
       " (Row(context_timestamp='1537271508'), 1),\n",
       " (Row(context_timestamp='1537285523'), 1),\n",
       " (Row(context_timestamp='1537246652'), 1),\n",
       " (Row(context_timestamp='1537242053'), 1),\n",
       " (Row(context_timestamp='1537242412'), 1),\n",
       " (Row(context_timestamp='1537245863'), 1),\n",
       " (Row(context_timestamp='1537258669'), 1),\n",
       " (Row(context_timestamp='1537249428'), 1),\n",
       " (Row(context_timestamp='1537266215'), 1),\n",
       " (Row(context_timestamp='1537252553'), 1),\n",
       " (Row(context_timestamp='1537270503'), 1),\n",
       " (Row(context_timestamp='1537255847'), 1),\n",
       " (Row(context_timestamp='1537248103'), 1),\n",
       " (Row(context_timestamp='1537276398'), 1),\n",
       " (Row(context_timestamp='1537246062'), 1),\n",
       " (Row(context_timestamp='1537246346'), 1),\n",
       " (Row(context_timestamp='1537281215'), 1),\n",
       " (Row(context_timestamp='1537224506'), 1),\n",
       " (Row(context_timestamp='1537282711'), 1),\n",
       " (Row(context_timestamp='1537285258'), 1),\n",
       " (Row(context_timestamp='1537257726'), 1),\n",
       " (Row(context_timestamp='1537261978'), 1),\n",
       " (Row(context_timestamp='1537265433'), 1),\n",
       " (Row(context_timestamp='1537263144'), 1),\n",
       " (Row(context_timestamp='1537272406'), 1),\n",
       " (Row(context_timestamp='1537263135'), 1),\n",
       " (Row(context_timestamp='1537251679'), 1),\n",
       " (Row(context_timestamp='1537201869'), 1),\n",
       " (Row(context_timestamp='1537246065'), 1),\n",
       " (Row(context_timestamp='1537250007'), 1),\n",
       " (Row(context_timestamp='1537260671'), 1),\n",
       " (Row(context_timestamp='1537260107'), 1),\n",
       " (Row(context_timestamp='1537238716'), 1),\n",
       " (Row(context_timestamp='1537238283'), 1),\n",
       " (Row(context_timestamp='1537280000'), 1),\n",
       " (Row(context_timestamp='1537270181'), 1),\n",
       " (Row(context_timestamp='1537255068'), 1),\n",
       " (Row(context_timestamp='1537252826'), 1),\n",
       " (Row(context_timestamp='1537285047'), 1),\n",
       " (Row(context_timestamp='1537255317'), 1),\n",
       " (Row(context_timestamp='1537256515'), 1),\n",
       " (Row(context_timestamp='1537284289'), 1),\n",
       " (Row(context_timestamp='1537282795'), 1),\n",
       " (Row(context_timestamp='1537280933'), 1),\n",
       " (Row(context_timestamp='1537271191'), 1),\n",
       " (Row(context_timestamp='1537255223'), 1),\n",
       " (Row(context_timestamp='1537237136'), 1),\n",
       " (Row(context_timestamp='1537243891'), 1),\n",
       " (Row(context_timestamp='1537255735'), 1),\n",
       " (Row(context_timestamp='1537250897'), 1),\n",
       " (Row(context_timestamp='1537265994'), 1),\n",
       " (Row(context_timestamp='1537244579'), 1),\n",
       " (Row(context_timestamp='1537258571'), 1),\n",
       " (Row(context_timestamp='1537245958'), 1),\n",
       " (Row(context_timestamp='1537256948'), 1),\n",
       " (Row(context_timestamp='1537272511'), 1),\n",
       " (Row(context_timestamp='1537250800'), 1),\n",
       " (Row(context_timestamp='1537240591'), 1),\n",
       " (Row(context_timestamp='1537279851'), 1),\n",
       " (Row(context_timestamp='1537244109'), 1),\n",
       " (Row(context_timestamp='1537279058'), 1),\n",
       " (Row(context_timestamp='1537271142'), 1),\n",
       " (Row(context_timestamp='1537226821'), 1),\n",
       " (Row(context_timestamp='1537252081'), 1),\n",
       " (Row(context_timestamp='1537272302'), 1),\n",
       " (Row(context_timestamp='1537248576'), 1),\n",
       " (Row(context_timestamp='1537271462'), 1),\n",
       " (Row(context_timestamp='1537276732'), 1),\n",
       " (Row(context_timestamp='1537264481'), 1),\n",
       " (Row(context_timestamp='1537274319'), 1),\n",
       " (Row(context_timestamp='1537236323'), 1),\n",
       " (Row(context_timestamp='1537272250'), 1),\n",
       " (Row(context_timestamp='1537246484'), 1),\n",
       " (Row(context_timestamp='1537272404'), 1),\n",
       " (Row(context_timestamp='1537263336'), 1),\n",
       " (Row(context_timestamp='1537261777'), 1),\n",
       " (Row(context_timestamp='1537268524'), 1),\n",
       " (Row(context_timestamp='1537261955'), 1),\n",
       " (Row(context_timestamp='1537201882'), 1),\n",
       " (Row(context_timestamp='1537265515'), 1),\n",
       " (Row(context_timestamp='1537255848'), 1),\n",
       " (Row(context_timestamp='1537270974'), 1),\n",
       " (Row(context_timestamp='1537272304'), 1),\n",
       " (Row(context_timestamp='1537235123'), 1),\n",
       " (Row(context_timestamp='1537233277'), 1),\n",
       " (Row(context_timestamp='1537269041'), 1),\n",
       " (Row(context_timestamp='1537246334'), 1),\n",
       " (Row(context_timestamp='1537245927'), 1),\n",
       " (Row(context_timestamp='1537247232'), 1),\n",
       " (Row(context_timestamp='1537264864'), 1),\n",
       " (Row(context_timestamp='1537284094'), 1),\n",
       " (Row(context_timestamp='1537243438'), 1),\n",
       " (Row(context_timestamp='1537248489'), 1),\n",
       " (Row(context_timestamp='1537278134'), 1),\n",
       " (Row(context_timestamp='1537254146'), 1),\n",
       " (Row(context_timestamp='1537246621'), 1),\n",
       " (Row(context_timestamp='1537253228'), 1),\n",
       " (Row(context_timestamp='1537250693'), 1),\n",
       " (Row(context_timestamp='1537266614'), 1),\n",
       " (Row(context_timestamp='1537261173'), 1),\n",
       " (Row(context_timestamp='1537253791'), 1),\n",
       " (Row(context_timestamp='1537273018'), 1),\n",
       " (Row(context_timestamp='1537234105'), 1),\n",
       " (Row(context_timestamp='1537249843'), 1),\n",
       " (Row(context_timestamp='1537263094'), 1),\n",
       " (Row(context_timestamp='1537244672'), 1),\n",
       " (Row(context_timestamp='1537275868'), 1),\n",
       " (Row(context_timestamp='1537272810'), 1),\n",
       " (Row(context_timestamp='1537239674'), 1),\n",
       " (Row(context_timestamp='1537264068'), 1),\n",
       " (Row(context_timestamp='1537281158'), 1),\n",
       " (Row(context_timestamp='1537246058'), 1),\n",
       " (Row(context_timestamp='1537254031'), 1),\n",
       " (Row(context_timestamp='1537248254'), 1),\n",
       " (Row(context_timestamp='1537269673'), 1),\n",
       " (Row(context_timestamp='1537273294'), 1),\n",
       " (Row(context_timestamp='1537261759'), 1),\n",
       " (Row(context_timestamp='1537280868'), 1),\n",
       " (Row(context_timestamp='1537247389'), 1),\n",
       " (Row(context_timestamp='1537222490'), 1),\n",
       " (Row(context_timestamp='1537233320'), 1),\n",
       " (Row(context_timestamp='1537244120'), 1),\n",
       " (Row(context_timestamp='1537245597'), 1),\n",
       " (Row(context_timestamp='1537245583'), 1),\n",
       " (Row(context_timestamp='1537251946'), 1),\n",
       " (Row(context_timestamp='1537216461'), 1),\n",
       " (Row(context_timestamp='1537239194'), 1),\n",
       " (Row(context_timestamp='1537264741'), 1),\n",
       " (Row(context_timestamp='1537276788'), 1),\n",
       " (Row(context_timestamp='1537250458'), 1),\n",
       " (Row(context_timestamp='1537271707'), 1),\n",
       " (Row(context_timestamp='1537236180'), 1),\n",
       " (Row(context_timestamp='1537202706'), 1),\n",
       " (Row(context_timestamp='1537271981'), 1),\n",
       " (Row(context_timestamp='1537262676'), 1),\n",
       " (Row(context_timestamp='1537256427'), 1),\n",
       " (Row(context_timestamp='1537279197'), 1),\n",
       " (Row(context_timestamp='1537249096'), 1),\n",
       " (Row(context_timestamp='1537200137'), 1),\n",
       " (Row(context_timestamp='1537268174'), 1),\n",
       " (Row(context_timestamp='1537241998'), 1),\n",
       " (Row(context_timestamp='1537249645'), 1),\n",
       " (Row(context_timestamp='1537244707'), 1),\n",
       " (Row(context_timestamp='1537281826'), 1),\n",
       " (Row(context_timestamp='1537255132'), 1),\n",
       " (Row(context_timestamp='1537244582'), 1),\n",
       " (Row(context_timestamp='1537245800'), 1),\n",
       " (Row(context_timestamp='1537275551'), 1),\n",
       " (Row(context_timestamp='1537280892'), 1),\n",
       " (Row(context_timestamp='1537236516'), 1),\n",
       " (Row(context_timestamp='1537274304'), 1),\n",
       " (Row(context_timestamp='1537264033'), 1),\n",
       " (Row(context_timestamp='1537262908'), 1),\n",
       " (Row(context_timestamp='1537249438'), 1),\n",
       " (Row(context_timestamp='1537254965'), 1),\n",
       " (Row(context_timestamp='1537239965'), 1),\n",
       " (Row(context_timestamp='1537263280'), 1),\n",
       " (Row(context_timestamp='1537248414'), 1),\n",
       " (Row(context_timestamp='1537266322'), 1),\n",
       " (Row(context_timestamp='1537264309'), 1),\n",
       " (Row(context_timestamp='1537230284'), 1),\n",
       " (Row(context_timestamp='1537241853'), 1),\n",
       " (Row(context_timestamp='1537256718'), 1),\n",
       " (Row(context_timestamp='1537253363'), 1),\n",
       " (Row(context_timestamp='1537251142'), 1),\n",
       " (Row(context_timestamp='1537264797'), 1),\n",
       " (Row(context_timestamp='1537271981'), 1),\n",
       " (Row(context_timestamp='1537270648'), 1),\n",
       " (Row(context_timestamp='1537270761'), 1),\n",
       " (Row(context_timestamp='1537232934'), 1),\n",
       " (Row(context_timestamp='1537266605'), 1),\n",
       " (Row(context_timestamp='1537262098'), 1),\n",
       " (Row(context_timestamp='1537277236'), 1),\n",
       " (Row(context_timestamp='1537277486'), 1),\n",
       " (Row(context_timestamp='1537273548'), 1),\n",
       " (Row(context_timestamp='1537251943'), 1),\n",
       " (Row(context_timestamp='1537258807'), 1),\n",
       " (Row(context_timestamp='1537246068'), 1),\n",
       " (Row(context_timestamp='1537270774'), 1),\n",
       " (Row(context_timestamp='1537260977'), 1),\n",
       " (Row(context_timestamp='1537260104'), 1),\n",
       " (Row(context_timestamp='1537226021'), 1),\n",
       " (Row(context_timestamp='1537272336'), 1),\n",
       " (Row(context_timestamp='1537281619'), 1),\n",
       " (Row(context_timestamp='1537263671'), 1),\n",
       " (Row(context_timestamp='1537239477'), 1),\n",
       " (Row(context_timestamp='1537263971'), 1),\n",
       " (Row(context_timestamp='1537253346'), 1),\n",
       " (Row(context_timestamp='1537247447'), 1),\n",
       " (Row(context_timestamp='1537257761'), 1),\n",
       " (Row(context_timestamp='1537244120'), 1),\n",
       " (Row(context_timestamp='1537281018'), 1),\n",
       " (Row(context_timestamp='1537204474'), 1),\n",
       " (Row(context_timestamp='1537246086'), 1),\n",
       " (Row(context_timestamp='1537276445'), 1),\n",
       " (Row(context_timestamp='1537253692'), 1),\n",
       " (Row(context_timestamp='1537276537'), 1),\n",
       " (Row(context_timestamp='1537270403'), 1),\n",
       " (Row(context_timestamp='1537249711'), 1),\n",
       " (Row(context_timestamp='1537267335'), 1),\n",
       " (Row(context_timestamp='1537278645'), 1),\n",
       " (Row(context_timestamp='1537279502'), 1),\n",
       " (Row(context_timestamp='1537233265'), 1),\n",
       " (Row(context_timestamp='1537261400'), 1),\n",
       " ...]"
      ]
     },
     "execution_count": 36,
     "metadata": {},
     "output_type": "execute_result"
    }
   ],
   "source": [
    "timestamp.select(\"context_timestamp\").rdd.map(lambda x: (x,1)).collect()"
   ]
  },
  {
   "cell_type": "markdown",
   "metadata": {},
   "source": [
    "## useful method"
   ]
  },
  {
   "cell_type": "code",
   "execution_count": 12,
   "metadata": {},
   "outputs": [
    {
     "data": {
      "text/plain": [
       "100"
      ]
     },
     "execution_count": 12,
     "metadata": {},
     "output_type": "execute_result"
    }
   ],
   "source": [
    "## rows\n",
    "ti.count()"
   ]
  },
  {
   "cell_type": "code",
   "execution_count": 14,
   "metadata": {},
   "outputs": [
    {
     "data": {
      "text/plain": [
       "DataFrame[context_timestamp: string]"
      ]
     },
     "execution_count": 14,
     "metadata": {},
     "output_type": "execute_result"
    }
   ],
   "source": [
    "## distinct\n",
    "ti.distinct()\n",
    "\n",
    "# or \n",
    "ti.select(\"context_timestamp\").dropDuplicates()"
   ]
  },
  {
   "cell_type": "code",
   "execution_count": 15,
   "metadata": {},
   "outputs": [
    {
     "data": {
      "text/plain": [
       "DataFrame[context_timestamp: string]"
      ]
     },
     "execution_count": 15,
     "metadata": {},
     "output_type": "execute_result"
    }
   ],
   "source": [
    "## fillna \n",
    "ti.fillna(-1)"
   ]
  },
  {
   "cell_type": "markdown",
   "metadata": {
    "collapsed": true
   },
   "source": [
    "# groupby and join method"
   ]
  },
  {
   "cell_type": "code",
   "execution_count": 37,
   "metadata": {
    "collapsed": true
   },
   "outputs": [],
   "source": [
    "ti = timestamp.sample(False,0.1)\n",
    "day = udf(lambda x: datetime.datetime.utcfromtimestamp(float(x)).day ,IntegerType())\n",
    "hour = udf(lambda x: datetime.datetime.utcfromtimestamp(float(x)).hour ,IntegerType())\n",
    "tiwithDay = ti.withColumn(\"day\",day(\"context_timestamp\"))\n",
    "tiwithHour = tiwithDay.withColumn(\"hour\",hour(\"context_timestamp\"))\n"
   ]
  },
  {
   "cell_type": "code",
   "execution_count": 38,
   "metadata": {},
   "outputs": [
    {
     "name": "stdout",
     "output_type": "stream",
     "text": [
      "+---+-----+\n",
      "|day|count|\n",
      "+---+-----+\n",
      "| 22| 6789|\n",
      "| 20| 6924|\n",
      "| 19| 7021|\n",
      "| 17|  684|\n",
      "| 23| 6237|\n",
      "| 24| 5240|\n",
      "| 21| 7184|\n",
      "| 18| 7917|\n",
      "+---+-----+\n",
      "\n"
     ]
    }
   ],
   "source": [
    "# simple groupby\n",
    "tiwithDay.groupby(\"day\").count().show()"
   ]
  },
  {
   "cell_type": "code",
   "execution_count": 29,
   "metadata": {},
   "outputs": [
    {
     "name": "stdout",
     "output_type": "stream",
     "text": [
      "+---+----------------------+\n",
      "|day|max(context_timestamp)|\n",
      "+---+----------------------+\n",
      "| 22|            1537660759|\n",
      "| 20|            1537487999|\n",
      "| 19|            1537401559|\n",
      "| 17|            1537228798|\n",
      "| 23|            1537747199|\n",
      "| 24|            1537804763|\n",
      "| 21|            1537574391|\n",
      "| 18|            1537315189|\n",
      "+---+----------------------+\n",
      "\n"
     ]
    }
   ],
   "source": [
    "# groupby and use other agg\n",
    "tiwithDay.groupby(\"day\").agg({\"context_timestamp\":\"mean\",\"context_timestamp\":\"max\"}).show()"
   ]
  },
  {
   "cell_type": "code",
   "execution_count": 48,
   "metadata": {},
   "outputs": [
    {
     "name": "stdout",
     "output_type": "stream",
     "text": [
      "+---+----+----------------------+------------------------+\n",
      "|day|hour|avg(context_timestamp)|count(context_timestamp)|\n",
      "+---+----+----------------------+------------------------+\n",
      "| 23|   6|  1.5376842216923077E9|                     403|\n",
      "| 24|  10|  1.5377851129103942E9|                     279|\n",
      "| 24|   9|   1.537781369686567E9|                     268|\n",
      "| 22|   8|  1.5376049720107527E9|                     372|\n",
      "| 18|  16|   1.537287913372549E9|                     153|\n",
      "| 22|   9|  1.5376085462010581E9|                     378|\n",
      "| 18|   1|  1.5372342539483695E9|                     368|\n",
      "| 22|   6|  1.5375976811907218E9|                     388|\n",
      "| 20|  22|    1.53748297215625E9|                      64|\n",
      "| 19|   2|   1.537324245409742E9|                     349|\n",
      "| 22|  23|  1.5376592308915663E9|                     166|\n",
      "| 20|   2|   1.537410550621134E9|                     388|\n",
      "| 23|  17|  1.5377234538958333E9|                      48|\n",
      "| 21|  11|   1.537529470607004E9|                     514|\n",
      "| 20|  12|  1.5374466684243903E9|                     615|\n",
      "| 23|  21|        1.5377383705E9|                      26|\n",
      "| 18|  14|  1.5372809356972318E9|                     578|\n",
      "| 24|  12|   1.537792247040619E9|                     517|\n",
      "| 19|  13|   1.537363734114148E9|                     622|\n",
      "| 17|  19|   1.537212824096774E9|                      31|\n",
      "+---+----+----------------------+------------------------+\n",
      "only showing top 20 rows\n",
      "\n"
     ]
    }
   ],
   "source": [
    "import  pyspark.sql.functions  as F\n",
    "tiwithHour.groupby('day','hour').agg(\n",
    "    F.mean(\"context_timestamp\"),\n",
    "    F.count(\"context_timestamp\")\n",
    "    \n",
    ").show()"
   ]
  },
  {
   "cell_type": "markdown",
   "metadata": {},
   "source": [
    "## groupby to support user defined function:"
   ]
  },
  {
   "cell_type": "code",
   "execution_count": 57,
   "metadata": {
    "collapsed": true
   },
   "outputs": [],
   "source": [
    "\n",
    "# use collect_list and collect_set\n",
    "dayHour = tiwithHour.groupby('day').agg(F.collect_list(\"hour\"))\n"
   ]
  },
  {
   "cell_type": "code",
   "execution_count": 61,
   "metadata": {},
   "outputs": [
    {
     "name": "stdout",
     "output_type": "stream",
     "text": [
      "+---+--------------------+\n",
      "|day|  collect_list(hour)|\n",
      "+---+--------------------+\n",
      "| 22|[14, 11, 11, 13, ...|\n",
      "| 20|[23, 22, 17, 16, ...|\n",
      "| 19|[10, 1, 9, 5, 4, ...|\n",
      "| 17|[17, 17, 22, 23, ...|\n",
      "| 23|[11, 12, 13, 11, ...|\n",
      "+---+--------------------+\n",
      "only showing top 5 rows\n",
      "\n"
     ]
    }
   ],
   "source": [
    "dayHour.show(5)"
   ]
  },
  {
   "cell_type": "code",
   "execution_count": 62,
   "metadata": {},
   "outputs": [
    {
     "name": "stdout",
     "output_type": "stream",
     "text": [
      "+-----------------+---+\n",
      "|context_timestamp|day|\n",
      "+-----------------+---+\n",
      "|       1537236544| 18|\n",
      "|       1537285082| 18|\n",
      "|       1537283431| 18|\n",
      "|       1537265363| 18|\n",
      "|       1537263058| 18|\n",
      "+-----------------+---+\n",
      "only showing top 5 rows\n",
      "\n"
     ]
    }
   ],
   "source": [
    "tiwithDay.show(5)"
   ]
  },
  {
   "cell_type": "markdown",
   "metadata": {},
   "source": [
    "# join"
   ]
  },
  {
   "cell_type": "code",
   "execution_count": 66,
   "metadata": {},
   "outputs": [
    {
     "name": "stdout",
     "output_type": "stream",
     "text": [
      "+-----------------+---+---+--------------------+\n",
      "|context_timestamp|day|day|  collect_list(hour)|\n",
      "+-----------------+---+---+--------------------+\n",
      "|       1537236544| 18| 18|[2, 15, 15, 10, 9...|\n",
      "|       1537285082| 18| 18|[2, 15, 15, 10, 9...|\n",
      "|       1537283431| 18| 18|[2, 15, 15, 10, 9...|\n",
      "|       1537265363| 18| 18|[2, 15, 15, 10, 9...|\n",
      "|       1537263058| 18| 18|[2, 15, 15, 10, 9...|\n",
      "|       1537203951| 17| 17|[17, 17, 22, 23, ...|\n",
      "|       1537267462| 18| 18|[2, 15, 15, 10, 9...|\n",
      "|       1537236361| 18| 18|[2, 15, 15, 10, 9...|\n",
      "|       1537258150| 18| 18|[2, 15, 15, 10, 9...|\n",
      "|       1537238066| 18| 18|[2, 15, 15, 10, 9...|\n",
      "|       1537237197| 18| 18|[2, 15, 15, 10, 9...|\n",
      "|       1537274454| 18| 18|[2, 15, 15, 10, 9...|\n",
      "|       1537241342| 18| 18|[2, 15, 15, 10, 9...|\n",
      "|       1537233194| 18| 18|[2, 15, 15, 10, 9...|\n",
      "|       1537232815| 18| 18|[2, 15, 15, 10, 9...|\n",
      "|       1537268997| 18| 18|[2, 15, 15, 10, 9...|\n",
      "|       1537251067| 18| 18|[2, 15, 15, 10, 9...|\n",
      "|       1537275785| 18| 18|[2, 15, 15, 10, 9...|\n",
      "|       1537275682| 18| 18|[2, 15, 15, 10, 9...|\n",
      "|       1537249147| 18| 18|[2, 15, 15, 10, 9...|\n",
      "+-----------------+---+---+--------------------+\n",
      "only showing top 20 rows\n",
      "\n"
     ]
    }
   ],
   "source": [
    "tiwithDay.join(dayHour,tiwithDay.day == dayHour.day,how = 'left').show()"
   ]
  },
  {
   "cell_type": "markdown",
   "metadata": {},
   "source": [
    "# feature transform"
   ]
  },
  {
   "cell_type": "markdown",
   "metadata": {},
   "source": [
    "## 离散变量的处理方法\n",
    "\n",
    "      - OneHotEncoderEstimator\n",
    "      - StringIndexer\n",
    "      - indexToString\n",
    "\n",
    "## 连续变量的处理方法\n",
    "      \n",
    "      - bucketizer\n",
    "      - interaction:很牛逼：不确定是否可以处理稀疏矩阵交互\n",
    "      - normalizer :数据进行归一化（保证列具有norm = 1）\n",
    "      - standerdScaler: unit std and zero mean\n",
    "      - minmaxScaler\n",
    "      - elementwiseProduct\n"
   ]
  },
  {
   "cell_type": "markdown",
   "metadata": {},
   "source": [
    "## one hot transformer"
   ]
  },
  {
   "cell_type": "code",
   "execution_count": 14,
   "metadata": {},
   "outputs": [
    {
     "data": {
      "text/plain": [
       "StructType(List(StructField(instance_id,StringType,true),StructField(item_id,StringType,true),StructField(item_category_list,StringType,true),StructField(item_property_list,StringType,true),StructField(item_brand_id,StringType,true),StructField(item_city_id,StringType,true),StructField(item_price_level,StringType,true),StructField(item_sales_level,StringType,true),StructField(item_collected_level,StringType,true),StructField(item_pv_level,StringType,true),StructField(user_id,StringType,true),StructField(user_gender_id,StringType,true),StructField(user_age_level,StringType,true),StructField(user_occupation_id,StringType,true),StructField(user_star_level,StringType,true),StructField(context_id,StringType,true),StructField(context_timestamp,StringType,true),StructField(context_page_id,StringType,true),StructField(predict_category_property,StringType,true),StructField(shop_id,StringType,true),StructField(shop_review_num_level,StringType,true),StructField(shop_review_positive_rate,StringType,true),StructField(shop_star_level,StringType,true),StructField(shop_score_service,StringType,true),StructField(shop_score_delivery,StringType,true),StructField(shop_score_description,StringType,true),StructField(is_trade,StringType,true)))"
      ]
     },
     "execution_count": 14,
     "metadata": {},
     "output_type": "execute_result"
    }
   ],
   "source": [
    "trainset.schema"
   ]
  },
  {
   "cell_type": "code",
   "execution_count": 20,
   "metadata": {
    "scrolled": true
   },
   "outputs": [
    {
     "name": "stdout",
     "output_type": "stream",
     "text": [
      "+-------------------+\n",
      "|      item_brand_id|\n",
      "+-------------------+\n",
      "|4553478234358480210|\n",
      "|3558483762596688694|\n",
      "|7844054043114368242|\n",
      "|4770150641133846549|\n",
      "|4475274987980152756|\n",
      "|2370561303120881603|\n",
      "|3196245114618206915|\n",
      "|3232465741406156427|\n",
      "|5502112173726415383|\n",
      "|3889178859023712903|\n",
      "|4142193175809505979|\n",
      "|1779279822658813774|\n",
      "|   3718718487310364|\n",
      "|5609686233480469348|\n",
      "|5402555686380756010|\n",
      "|2753949486266415812|\n",
      "|6484835263364658312|\n",
      "|4911434975952515346|\n",
      "|9143916258066354406|\n",
      "|2284060312728715872|\n",
      "+-------------------+\n",
      "only showing top 20 rows\n",
      "\n"
     ]
    }
   ],
   "source": [
    "trainset.select(\"item_brand_id\").distinct().show()"
   ]
  },
  {
   "cell_type": "markdown",
   "metadata": {},
   "source": [
    "## 对item_brand_id 进行onehot编码"
   ]
  },
  {
   "cell_type": "code",
   "execution_count": 57,
   "metadata": {},
   "outputs": [],
   "source": [
    "# 都在feature 类中\n",
    "from pyspark.ml.feature import OneHotEncoderEstimator,StringIndexer\n",
    "from pyspark.ml import Pipeline\n",
    "\n",
    "\n",
    "\n",
    "trainset  = sess.read.csv(\"../data/round1_ijcai_18_train_20180301.txt\",sep = ' ',header =  True)\n",
    "\n",
    "needCoded = ['item_brand_id','shop_id']\n",
    "needCodedIdx = [ col + 'Idx' for col in needCoded]\n",
    "needCodedIdxOnehot = [ i+'_OneHot' for i in needCodedIdx]\n",
    "indexer = [  StringIndexer(inputCol= col , outputCol= col + 'Idx' )\n",
    "               for col in needCoded\n",
    "          ]\n",
    "onehot  = [ OneHotEncoderEstimator(\n",
    "                inputCols = [i.getOutputCol()],\n",
    "                outputCols = [i.getOutputCol() + '_OneHot']\n",
    "            )\n",
    "            for i in indexer\n",
    "]\n",
    "\n",
    "pipeLine = Pipeline(stages  = indexer + onehot)\n",
    "\n",
    "trainset2 =  pipeLine.fit(trainset).transform(trainset)\n",
    "trainset2 = trainset2.drop(*(needCoded+needCodedIdx))"
   ]
  },
  {
   "cell_type": "code",
   "execution_count": 56,
   "metadata": {
    "collapsed": true
   },
   "outputs": [
    {
     "name": "stdout",
     "output_type": "stream",
     "text": [
      "+-------------------+-------------------+--------------------+--------------------+-------------------+----------------+----------------+--------------------+-------------+-------------------+--------------+--------------+------------------+---------------+-------------------+-----------------+---------------+-------------------------+---------------------+-------------------------+---------------+------------------+-------------------+----------------------+--------+\n",
      "|        instance_id|            item_id|  item_category_list|  item_property_list|       item_city_id|item_price_level|item_sales_level|item_collected_level|item_pv_level|            user_id|user_gender_id|user_age_level|user_occupation_id|user_star_level|         context_id|context_timestamp|context_page_id|predict_category_property|shop_review_num_level|shop_review_positive_rate|shop_star_level|shop_score_service|shop_score_delivery|shop_score_description|is_trade|\n",
      "+-------------------+-------------------+--------------------+--------------------+-------------------+----------------+----------------+--------------------+-------------+-------------------+--------------+--------------+------------------+---------------+-------------------+-----------------+---------------+-------------------------+---------------------+-------------------------+---------------+------------------+-------------------+----------------------+--------+\n",
      "| 108641074714126964|3412720377098676069|79083828897646777...|20729678555240225...|3948283326616421003|               3|               3|                   4|           14|4505772604969228686|             1|          1003|              2005|           3003| 282924576738839389|       1537236544|           4006|     57993470679825565...|                    4|                        1|           5002|                 1|                  1|                     1|       0|\n",
      "|5754713551599725161|3412720377098676069|79083828897646777...|20729678555240225...|3948283326616421003|               3|               3|                   4|           14|2692638157208937547|             0|          1002|              2005|           3006|4007979028023783431|       1537243232|           4001|     57993470679825565...|                    4|                        1|           5002|                 1|                  1|                     1|       0|\n",
      "| 842679481291040981|3412720377098676069|79083828897646777...|20729678555240225...|3948283326616421003|               3|               3|                   4|           14|5247924392014515924|             0|          1003|              2005|           3004|4884875192608989870|       1537211052|           4001|     57993470679825565...|                    4|                        1|           5002|                 1|                  1|                     1|       0|\n",
      "| 937088850059189027|3412720377098676069|79083828897646777...|20729678555240225...|3948283326616421003|               3|               3|                   4|           14|2681414445369714628|             1|          1004|              2005|           3006| 840119421106178602|       1537222670|           4016|     50966009553013476...|                    4|                        1|           5002|                 1|                  1|                     1|       0|\n",
      "|7975697065017708072|3412720377098676069|79083828897646777...|20729678555240225...|3948283326616421003|               3|               3|                   4|           14|2729475788342039013|             0|          1002|              2005|           3001|1736769971710354684|       1537271320|           4001|     57993470679825565...|                    4|                        1|           5002|                 1|                  1|                     1|       0|\n",
      "|7764762765372067286|3412720377098676069|79083828897646777...|20729678555240225...|3948283326616421003|               3|               3|                   4|           14|4512655448325954611|             1|          1004|              2005|           3002|4434980272230296456|       1537282855|           4003|     57993470679825565...|                    4|                        1|           5002|                 1|                  1|                     1|       0|\n",
      "|6956333474094867789| 285660928590172217|79083828897646777...|20729678555240225...| 548352491538518780|               8|               9|                   8|           13|8811056487516803043|             1|          1006|              2005|           3000|3622211816051289512|       1537280317|           4001|     20119815730614472...|                   15|       0.9854271356783919|           5012|0.9748783863950958|  0.976862512363996|    0.9692782281985368|       0|\n",
      "|8387099821892927911| 285660928590172217|79083828897646777...|20729678555240225...| 548352491538518780|               8|               9|                   8|           13|6507704883896466138|             0|          1002|              2002|           3002|7851031132945961016|       1537261120|           4001|     20119815730614472...|                   15|       0.9854271356783919|           5012|0.9748783863950958|  0.976862512363996|    0.9692782281985368|       0|\n",
      "|4021878205550012615|5202355029344881809|79083828897646777...|20729678555240225...| 548352491538518780|               8|               9|                  10|           16|6203308008480593423|             0|          1003|              2002|           3007|8388974876851097582|       1537208871|           4001|     57556944076846022...|                   15|       0.9854271356783919|           5012|0.9748783863950958|  0.976862512363996|    0.9692782281985368|       0|\n",
      "|6499571365974135517| 285660928590172217|79083828897646777...|20729678555240225...| 548352491538518780|               8|               9|                   8|           13|6041712044514783312|             0|          1003|              2005|           3006|1138535512266486347|       1537285390|           4003|     82773360762761842...|                   15|       0.9854271356783919|           5012|0.9748783863950958|  0.976862512363996|    0.9692782281985368|       0|\n",
      "|2880717957514996136| 285660928590172217|79083828897646777...|20729678555240225...| 548352491538518780|               8|               9|                   8|           13|5527752154396335340|             1|          1003|              2005|           3003|1321094267098227649|       1537263036|           4001|     20119815730614472...|                   15|       0.9854271356783919|           5012|0.9748783863950958|  0.976862512363996|    0.9692782281985368|       0|\n",
      "| 939825752961345523|5202355029344881809|79083828897646777...|20729678555240225...| 548352491538518780|               8|               9|                  10|           16|9136135655015970865|             0|          1003|              2002|           3007|3293182224165193298|       1537240361|           4001|     57993470679825565...|                   15|       0.9854271356783919|           5012|0.9748783863950958|  0.976862512363996|    0.9692782281985368|       0|\n",
      "|8802991093903959363| 285660928590172217|79083828897646777...|20729678555240225...| 548352491538518780|               8|               9|                   8|           13|1125352029162214778|             1|          1003|              2005|           3005|2923308860909436591|       1537285082|           4001|     82773360762761842...|                   15|       0.9854271356783919|           5012|0.9748783863950958|  0.976862512363996|    0.9692782281985368|       0|\n",
      "|3368094606870610045| 285660928590172217|79083828897646777...|20729678555240225...| 548352491538518780|               8|               9|                   8|           13|3677962228574948324|             0|          1003|              2002|           3006|1568203150915810671|       1537280484|           4003|     82773360762761842...|                   15|       0.9854271356783919|           5012|0.9748783863950958|  0.976862512363996|    0.9692782281985368|       0|\n",
      "|7972325483281584825| 285660928590172217|79083828897646777...|20729678555240225...| 548352491538518780|               8|               9|                   8|           13|5724091758094305190|             0|          1003|              2005|           3002|7612168924020353960|       1537253096|           4001|     48797210249809455...|                   15|       0.9854271356783919|           5012|0.9748783863950958|  0.976862512363996|    0.9692782281985368|       1|\n",
      "|8277925953313664420| 285660928590172217|79083828897646777...|20729678555240225...| 548352491538518780|               8|               9|                   8|           13|7039399708071640850|             0|          1004|              2002|           3006|6077456298556673177|       1537202495|           4001|     82773360762761842...|                   15|       0.9854271356783919|           5012|0.9748783863950958|  0.976862512363996|    0.9692782281985368|       0|\n",
      "|6534421086843299211|5202355029344881809|79083828897646777...|20729678555240225...| 548352491538518780|               8|               9|                  10|           16|2336243288189250115|             0|          1005|              2005|           3007|4186010745541353720|       1537265813|           4001|     57556944076846022...|                   15|       0.9854271356783919|           5012|0.9748783863950958|  0.976862512363996|    0.9692782281985368|       0|\n",
      "|3463502729031605090|5202355029344881809|79083828897646777...|20729678555240225...| 548352491538518780|               8|               9|                  10|           16|5629863948218506765|             0|          1004|              2005|           3007|2114570907387457012|       1537256335|           4001|     17601648111250931...|                   15|       0.9854271356783919|           5012|0.9748783863950958|  0.976862512363996|    0.9692782281985368|       0|\n",
      "|8460619240681789215| 285660928590172217|79083828897646777...|20729678555240225...| 548352491538518780|               8|               9|                   8|           13| 827042086894286790|             0|          1004|              2002|           3007|2706241160694606116|       1537267960|           4001|     20119815730614472...|                   15|       0.9854271356783919|           5012|0.9748783863950958|  0.976862512363996|    0.9692782281985368|       0|\n",
      "|5394134991759971072| 285660928590172217|79083828897646777...|20729678555240225...| 548352491538518780|               8|               9|                   8|           13|3324440602135810689|             0|          1004|              2005|           3003|2784562050073936754|       1537278755|           4001|     82773360762761842...|                   15|       0.9854271356783919|           5012|0.9748783863950958|  0.976862512363996|    0.9692782281985368|       0|\n",
      "+-------------------+-------------------+--------------------+--------------------+-------------------+----------------+----------------+--------------------+-------------+-------------------+--------------+--------------+------------------+---------------+-------------------+-----------------+---------------+-------------------------+---------------------+-------------------------+---------------+------------------+-------------------+----------------------+--------+\n",
      "only showing top 20 rows\n",
      "\n"
     ]
    }
   ],
   "source": [
    "trainset2.show()"
   ]
  },
  {
   "cell_type": "markdown",
   "metadata": {},
   "source": [
    "## 关于编码的还原\n",
    "\n",
    "\n",
    "\n"
   ]
  },
  {
   "cell_type": "code",
   "execution_count": 76,
   "metadata": {},
   "outputs": [],
   "source": [
    "from pyspark.ml.feature import IndexToString,StringIndexer\n",
    "from pyspark.sql.functions import udf\n",
    "from pyspark.sql.types import IntegerType\n",
    "import datetime\n",
    "f = udf(lambda x: datetime.datetime.utcfromtimestamp(float(x)).day ,IntegerType())\n",
    "trainset  = sess.read.csv(\"../data/round1_ijcai_18_train_20180301.txt\",sep = ' ',header =  True)\n",
    "trainset = trainset.withColumn(\"day\",f(\"context_timestamp\"))\n",
    "\n",
    "brand_indexer = StringIndexer(inputCol= 'item_brand_id',outputCol='item_brand_idIdx')\n",
    "trainset = brand_indexer.fit(trainset).transform(trainset)\n",
    "\n"
   ]
  },
  {
   "cell_type": "code",
   "execution_count": 77,
   "metadata": {},
   "outputs": [
    {
     "data": {
      "text/plain": [
       "('item_brand_id', 'item_brand_idIdx')"
      ]
     },
     "execution_count": 77,
     "metadata": {},
     "output_type": "execute_result"
    }
   ],
   "source": [
    "brand_indexer.getInputCol(),brand_indexer.getOutputCol()"
   ]
  },
  {
   "cell_type": "code",
   "execution_count": 86,
   "metadata": {},
   "outputs": [
    {
     "name": "stdout",
     "output_type": "stream",
     "text": [
      "+----------------+-------------------+\n",
      "|item_brand_idIdx|     brand_original|\n",
      "+----------------+-------------------+\n",
      "|           607.0|1975590437749032870|\n",
      "|           607.0|1975590437749032870|\n",
      "+----------------+-------------------+\n",
      "\n"
     ]
    }
   ],
   "source": [
    "brandName = IndexToString(inputCol=brand_indexer.getOutputCol(),outputCol='brand_original')\n",
    "brandName.transform(trainset).select('item_brand_idIdx','brand_original').limit(2).show()"
   ]
  },
  {
   "cell_type": "markdown",
   "metadata": {},
   "source": [
    "## VectorAssembler"
   ]
  },
  {
   "cell_type": "code",
   "execution_count": 70,
   "metadata": {},
   "outputs": [
    {
     "data": {
      "text/plain": [
       "Row(feature=SparseVector(6012, {607: 1.0, 3903: 1.0}))"
      ]
     },
     "execution_count": 70,
     "metadata": {},
     "output_type": "execute_result"
    }
   ],
   "source": [
    "# before you build your model  , you need to assemble your vector\n",
    "from pyspark.ml.feature import VectorAssembler\n",
    "\n",
    "\n",
    "# 注意： vectorassembler 只会搞数值型\n",
    "assemble = VectorAssembler(inputCols= needCodedIdxOnehot,outputCol='feature')\n",
    "assemble.transform(trainset2).select('feature').first()"
   ]
  },
  {
   "cell_type": "code",
   "execution_count": 62,
   "metadata": {},
   "outputs": [
    {
     "data": {
      "text/plain": [
       "[StructField(instance_id,StringType,true),\n",
       " StructField(item_id,StringType,true),\n",
       " StructField(item_category_list,StringType,true),\n",
       " StructField(item_property_list,StringType,true),\n",
       " StructField(item_city_id,StringType,true),\n",
       " StructField(item_price_level,StringType,true),\n",
       " StructField(item_sales_level,StringType,true),\n",
       " StructField(item_collected_level,StringType,true),\n",
       " StructField(item_pv_level,StringType,true),\n",
       " StructField(user_id,StringType,true),\n",
       " StructField(user_gender_id,StringType,true),\n",
       " StructField(user_age_level,StringType,true),\n",
       " StructField(user_occupation_id,StringType,true),\n",
       " StructField(user_star_level,StringType,true),\n",
       " StructField(context_id,StringType,true),\n",
       " StructField(context_timestamp,StringType,true),\n",
       " StructField(context_page_id,StringType,true),\n",
       " StructField(predict_category_property,StringType,true),\n",
       " StructField(shop_review_num_level,StringType,true),\n",
       " StructField(shop_review_positive_rate,StringType,true),\n",
       " StructField(shop_star_level,StringType,true),\n",
       " StructField(shop_score_service,StringType,true),\n",
       " StructField(shop_score_delivery,StringType,true),\n",
       " StructField(shop_score_description,StringType,true),\n",
       " StructField(is_trade,StringType,true),\n",
       " StructField(item_brand_idIdx_OneHot,VectorUDT,true),\n",
       " StructField(shop_idIdx_OneHot,VectorUDT,true)]"
      ]
     },
     "execution_count": 62,
     "metadata": {},
     "output_type": "execute_result"
    }
   ],
   "source": []
  },
  {
   "cell_type": "code",
   "execution_count": 117,
   "metadata": {
    "collapsed": true
   },
   "outputs": [],
   "source": [
    "# user defined function in pysparkSQL.ipynb"
   ]
  },
  {
   "cell_type": "code",
   "execution_count": 131,
   "metadata": {},
   "outputs": [
    {
     "data": {
      "text/plain": [
       "DataFrame[instance_id: string, item_id: string, item_category_list: string, item_property_list: string, item_city_id: string, item_price_level: string, item_sales_level: string, item_collected_level: string, item_pv_level: string, user_id: string, user_gender_id: string, user_age_level: string, user_occupation_id: string, user_star_level: string, context_id: string, context_timestamp: string, context_page_id: string, predict_category_property: string, shop_review_num_level: string, shop_review_positive_rate: string, shop_star_level: string, shop_score_service: string, shop_score_delivery: string, shop_score_description: string, is_trade: string, item_brand_idIdx_OneHot: vector, shop_idIdx_OneHot: vector, userfunction(is_trade): string]"
      ]
     },
     "execution_count": 131,
     "metadata": {},
     "output_type": "execute_result"
    }
   ],
   "source": [
    "from pyspark.ml.feature import SQLTransformer\n",
    "\n",
    "userfunction = sess.udf.register(\n",
    "    \"userfunction\",\n",
    "    lambda x: \"success\" if x == 0 else \"failure\",\n",
    "    \"string\"\n",
    ")\n",
    "\n",
    "transHour = [SQLTransformer(\n",
    "    statement = \"select * , userfunction(is_trade) from __THIS__\"\n",
    ")]\n",
    "\n",
    "#  transHour[0].transform(trainset2)\n",
    "\n",
    "pip  = Pipeline(stages= transHour)\n",
    "pip.fit(trainset2).transform(trainset2)"
   ]
  },
  {
   "cell_type": "code",
   "execution_count": 123,
   "metadata": {
    "scrolled": true
   },
   "outputs": [
    {
     "data": {
      "text/plain": [
       "[StructField(instance_id,StringType,true),\n",
       " StructField(item_id,StringType,true),\n",
       " StructField(item_category_list,StringType,true),\n",
       " StructField(item_property_list,StringType,true),\n",
       " StructField(item_city_id,StringType,true),\n",
       " StructField(item_price_level,StringType,true),\n",
       " StructField(item_sales_level,StringType,true),\n",
       " StructField(item_collected_level,StringType,true),\n",
       " StructField(item_pv_level,StringType,true),\n",
       " StructField(user_id,StringType,true),\n",
       " StructField(user_gender_id,StringType,true),\n",
       " StructField(user_age_level,StringType,true),\n",
       " StructField(user_occupation_id,StringType,true),\n",
       " StructField(user_star_level,StringType,true),\n",
       " StructField(context_id,StringType,true),\n",
       " StructField(context_timestamp,StringType,true),\n",
       " StructField(context_page_id,StringType,true),\n",
       " StructField(predict_category_property,StringType,true),\n",
       " StructField(shop_review_num_level,StringType,true),\n",
       " StructField(shop_review_positive_rate,StringType,true),\n",
       " StructField(shop_star_level,StringType,true),\n",
       " StructField(shop_score_service,StringType,true),\n",
       " StructField(shop_score_delivery,StringType,true),\n",
       " StructField(shop_score_description,StringType,true),\n",
       " StructField(is_trade,StringType,true),\n",
       " StructField(item_brand_idIdx_OneHot,VectorUDT,true),\n",
       " StructField(shop_idIdx_OneHot,VectorUDT,true)]"
      ]
     },
     "execution_count": 123,
     "metadata": {},
     "output_type": "execute_result"
    }
   ],
   "source": [
    "trainset2.schema.fields"
   ]
  },
  {
   "cell_type": "markdown",
   "metadata": {},
   "source": [
    "      \n",
    "\n",
    "## 缺失值处理\n",
    "      \n",
    "      "
   ]
  },
  {
   "cell_type": "code",
   "execution_count": 97,
   "metadata": {
    "collapsed": true
   },
   "outputs": [
    {
     "ename": "IllegalArgumentException",
     "evalue": "'requirement failed: Column shop_star_level must be of type equal to one of the following types: [DoubleType, FloatType] but was actually of type StringType.'",
     "output_type": "error",
     "traceback": [
      "\u001b[0;31m---------------------------------------------------------------------------\u001b[0m",
      "\u001b[0;31mPy4JJavaError\u001b[0m                             Traceback (most recent call last)",
      "\u001b[0;32m/usr/lib/spark/spark-2.3.0-bin-hadoop2.7/python/pyspark/sql/utils.py\u001b[0m in \u001b[0;36mdeco\u001b[0;34m(*a, **kw)\u001b[0m\n\u001b[1;32m     62\u001b[0m         \u001b[0;32mtry\u001b[0m\u001b[0;34m:\u001b[0m\u001b[0;34m\u001b[0m\u001b[0m\n\u001b[0;32m---> 63\u001b[0;31m             \u001b[0;32mreturn\u001b[0m \u001b[0mf\u001b[0m\u001b[0;34m(\u001b[0m\u001b[0;34m*\u001b[0m\u001b[0ma\u001b[0m\u001b[0;34m,\u001b[0m \u001b[0;34m**\u001b[0m\u001b[0mkw\u001b[0m\u001b[0;34m)\u001b[0m\u001b[0;34m\u001b[0m\u001b[0m\n\u001b[0m\u001b[1;32m     64\u001b[0m         \u001b[0;32mexcept\u001b[0m \u001b[0mpy4j\u001b[0m\u001b[0;34m.\u001b[0m\u001b[0mprotocol\u001b[0m\u001b[0;34m.\u001b[0m\u001b[0mPy4JJavaError\u001b[0m \u001b[0;32mas\u001b[0m \u001b[0me\u001b[0m\u001b[0;34m:\u001b[0m\u001b[0;34m\u001b[0m\u001b[0m\n",
      "\u001b[0;32m~/anaconda3/envs/tf35/lib/python3.5/site-packages/py4j/protocol.py\u001b[0m in \u001b[0;36mget_return_value\u001b[0;34m(answer, gateway_client, target_id, name)\u001b[0m\n\u001b[1;32m    319\u001b[0m                     \u001b[0;34m\"An error occurred while calling {0}{1}{2}.\\n\"\u001b[0m\u001b[0;34m.\u001b[0m\u001b[0;34m\u001b[0m\u001b[0m\n\u001b[0;32m--> 320\u001b[0;31m                     format(target_id, \".\", name), value)\n\u001b[0m\u001b[1;32m    321\u001b[0m             \u001b[0;32melse\u001b[0m\u001b[0;34m:\u001b[0m\u001b[0;34m\u001b[0m\u001b[0m\n",
      "\u001b[0;31mPy4JJavaError\u001b[0m: An error occurred while calling o1804.fit.\n: java.lang.IllegalArgumentException: requirement failed: Column shop_star_level must be of type equal to one of the following types: [DoubleType, FloatType] but was actually of type StringType.\n\tat scala.Predef$.require(Predef.scala:224)\n\tat org.apache.spark.ml.util.SchemaUtils$.checkColumnTypes(SchemaUtils.scala:58)\n\tat org.apache.spark.ml.feature.ImputerParams$$anonfun$2.apply(Imputer.scala:76)\n\tat org.apache.spark.ml.feature.ImputerParams$$anonfun$2.apply(Imputer.scala:74)\n\tat scala.collection.TraversableLike$$anonfun$map$1.apply(TraversableLike.scala:234)\n\tat scala.collection.TraversableLike$$anonfun$map$1.apply(TraversableLike.scala:234)\n\tat scala.collection.IndexedSeqOptimized$class.foreach(IndexedSeqOptimized.scala:33)\n\tat scala.collection.mutable.ArrayOps$ofRef.foreach(ArrayOps.scala:186)\n\tat scala.collection.TraversableLike$class.map(TraversableLike.scala:234)\n\tat scala.collection.mutable.ArrayOps$ofRef.map(ArrayOps.scala:186)\n\tat org.apache.spark.ml.feature.ImputerParams$class.validateAndTransformSchema(Imputer.scala:74)\n\tat org.apache.spark.ml.feature.Imputer.validateAndTransformSchema(Imputer.scala:96)\n\tat org.apache.spark.ml.feature.Imputer.transformSchema(Imputer.scala:175)\n\tat org.apache.spark.ml.PipelineStage.transformSchema(Pipeline.scala:74)\n\tat org.apache.spark.ml.feature.Imputer.fit(Imputer.scala:124)\n\tat sun.reflect.NativeMethodAccessorImpl.invoke0(Native Method)\n\tat sun.reflect.NativeMethodAccessorImpl.invoke(NativeMethodAccessorImpl.java:62)\n\tat sun.reflect.DelegatingMethodAccessorImpl.invoke(DelegatingMethodAccessorImpl.java:43)\n\tat java.lang.reflect.Method.invoke(Method.java:498)\n\tat py4j.reflection.MethodInvoker.invoke(MethodInvoker.java:244)\n\tat py4j.reflection.ReflectionEngine.invoke(ReflectionEngine.java:357)\n\tat py4j.Gateway.invoke(Gateway.java:282)\n\tat py4j.commands.AbstractCommand.invokeMethod(AbstractCommand.java:132)\n\tat py4j.commands.CallCommand.execute(CallCommand.java:79)\n\tat py4j.GatewayConnection.run(GatewayConnection.java:214)\n\tat java.lang.Thread.run(Thread.java:748)\n",
      "\nDuring handling of the above exception, another exception occurred:\n",
      "\u001b[0;31mIllegalArgumentException\u001b[0m                  Traceback (most recent call last)",
      "\u001b[0;32m<ipython-input-97-7c131704122f>\u001b[0m in \u001b[0;36m<module>\u001b[0;34m()\u001b[0m\n\u001b[1;32m      1\u001b[0m \u001b[0;32mfrom\u001b[0m \u001b[0mpyspark\u001b[0m\u001b[0;34m.\u001b[0m\u001b[0mml\u001b[0m\u001b[0;34m.\u001b[0m\u001b[0mfeature\u001b[0m \u001b[0;32mimport\u001b[0m  \u001b[0mImputer\u001b[0m\u001b[0;34m\u001b[0m\u001b[0m\n\u001b[1;32m      2\u001b[0m \u001b[0mi\u001b[0m \u001b[0;34m=\u001b[0m \u001b[0mImputer\u001b[0m\u001b[0;34m(\u001b[0m\u001b[0minputCols\u001b[0m\u001b[0;34m=\u001b[0m\u001b[0;34m[\u001b[0m\u001b[0;34m\"shop_star_level\"\u001b[0m\u001b[0;34m]\u001b[0m\u001b[0;34m,\u001b[0m\u001b[0moutputCols\u001b[0m\u001b[0;34m=\u001b[0m\u001b[0;34m[\u001b[0m\u001b[0;34m\"shop_star_level\"\u001b[0m\u001b[0;34m]\u001b[0m\u001b[0;34m)\u001b[0m\u001b[0;34m\u001b[0m\u001b[0m\n\u001b[0;32m----> 3\u001b[0;31m \u001b[0mi\u001b[0m\u001b[0;34m.\u001b[0m\u001b[0mfit\u001b[0m\u001b[0;34m(\u001b[0m\u001b[0mtrainset2\u001b[0m\u001b[0;34m)\u001b[0m\u001b[0;34m\u001b[0m\u001b[0m\n\u001b[0m",
      "\u001b[0;32m/usr/lib/spark/spark-2.3.0-bin-hadoop2.7/python/pyspark/ml/base.py\u001b[0m in \u001b[0;36mfit\u001b[0;34m(self, dataset, params)\u001b[0m\n\u001b[1;32m    130\u001b[0m                 \u001b[0;32mreturn\u001b[0m \u001b[0mself\u001b[0m\u001b[0;34m.\u001b[0m\u001b[0mcopy\u001b[0m\u001b[0;34m(\u001b[0m\u001b[0mparams\u001b[0m\u001b[0;34m)\u001b[0m\u001b[0;34m.\u001b[0m\u001b[0m_fit\u001b[0m\u001b[0;34m(\u001b[0m\u001b[0mdataset\u001b[0m\u001b[0;34m)\u001b[0m\u001b[0;34m\u001b[0m\u001b[0m\n\u001b[1;32m    131\u001b[0m             \u001b[0;32melse\u001b[0m\u001b[0;34m:\u001b[0m\u001b[0;34m\u001b[0m\u001b[0m\n\u001b[0;32m--> 132\u001b[0;31m                 \u001b[0;32mreturn\u001b[0m \u001b[0mself\u001b[0m\u001b[0;34m.\u001b[0m\u001b[0m_fit\u001b[0m\u001b[0;34m(\u001b[0m\u001b[0mdataset\u001b[0m\u001b[0;34m)\u001b[0m\u001b[0;34m\u001b[0m\u001b[0m\n\u001b[0m\u001b[1;32m    133\u001b[0m         \u001b[0;32melse\u001b[0m\u001b[0;34m:\u001b[0m\u001b[0;34m\u001b[0m\u001b[0m\n\u001b[1;32m    134\u001b[0m             raise ValueError(\"Params must be either a param map or a list/tuple of param maps, \"\n",
      "\u001b[0;32m/usr/lib/spark/spark-2.3.0-bin-hadoop2.7/python/pyspark/ml/wrapper.py\u001b[0m in \u001b[0;36m_fit\u001b[0;34m(self, dataset)\u001b[0m\n\u001b[1;32m    286\u001b[0m \u001b[0;34m\u001b[0m\u001b[0m\n\u001b[1;32m    287\u001b[0m     \u001b[0;32mdef\u001b[0m \u001b[0m_fit\u001b[0m\u001b[0;34m(\u001b[0m\u001b[0mself\u001b[0m\u001b[0;34m,\u001b[0m \u001b[0mdataset\u001b[0m\u001b[0;34m)\u001b[0m\u001b[0;34m:\u001b[0m\u001b[0;34m\u001b[0m\u001b[0m\n\u001b[0;32m--> 288\u001b[0;31m         \u001b[0mjava_model\u001b[0m \u001b[0;34m=\u001b[0m \u001b[0mself\u001b[0m\u001b[0;34m.\u001b[0m\u001b[0m_fit_java\u001b[0m\u001b[0;34m(\u001b[0m\u001b[0mdataset\u001b[0m\u001b[0;34m)\u001b[0m\u001b[0;34m\u001b[0m\u001b[0m\n\u001b[0m\u001b[1;32m    289\u001b[0m         \u001b[0mmodel\u001b[0m \u001b[0;34m=\u001b[0m \u001b[0mself\u001b[0m\u001b[0;34m.\u001b[0m\u001b[0m_create_model\u001b[0m\u001b[0;34m(\u001b[0m\u001b[0mjava_model\u001b[0m\u001b[0;34m)\u001b[0m\u001b[0;34m\u001b[0m\u001b[0m\n\u001b[1;32m    290\u001b[0m         \u001b[0;32mreturn\u001b[0m \u001b[0mself\u001b[0m\u001b[0;34m.\u001b[0m\u001b[0m_copyValues\u001b[0m\u001b[0;34m(\u001b[0m\u001b[0mmodel\u001b[0m\u001b[0;34m)\u001b[0m\u001b[0;34m\u001b[0m\u001b[0m\n",
      "\u001b[0;32m/usr/lib/spark/spark-2.3.0-bin-hadoop2.7/python/pyspark/ml/wrapper.py\u001b[0m in \u001b[0;36m_fit_java\u001b[0;34m(self, dataset)\u001b[0m\n\u001b[1;32m    283\u001b[0m         \"\"\"\n\u001b[1;32m    284\u001b[0m         \u001b[0mself\u001b[0m\u001b[0;34m.\u001b[0m\u001b[0m_transfer_params_to_java\u001b[0m\u001b[0;34m(\u001b[0m\u001b[0;34m)\u001b[0m\u001b[0;34m\u001b[0m\u001b[0m\n\u001b[0;32m--> 285\u001b[0;31m         \u001b[0;32mreturn\u001b[0m \u001b[0mself\u001b[0m\u001b[0;34m.\u001b[0m\u001b[0m_java_obj\u001b[0m\u001b[0;34m.\u001b[0m\u001b[0mfit\u001b[0m\u001b[0;34m(\u001b[0m\u001b[0mdataset\u001b[0m\u001b[0;34m.\u001b[0m\u001b[0m_jdf\u001b[0m\u001b[0;34m)\u001b[0m\u001b[0;34m\u001b[0m\u001b[0m\n\u001b[0m\u001b[1;32m    286\u001b[0m \u001b[0;34m\u001b[0m\u001b[0m\n\u001b[1;32m    287\u001b[0m     \u001b[0;32mdef\u001b[0m \u001b[0m_fit\u001b[0m\u001b[0;34m(\u001b[0m\u001b[0mself\u001b[0m\u001b[0;34m,\u001b[0m \u001b[0mdataset\u001b[0m\u001b[0;34m)\u001b[0m\u001b[0;34m:\u001b[0m\u001b[0;34m\u001b[0m\u001b[0m\n",
      "\u001b[0;32m~/anaconda3/envs/tf35/lib/python3.5/site-packages/py4j/java_gateway.py\u001b[0m in \u001b[0;36m__call__\u001b[0;34m(self, *args)\u001b[0m\n\u001b[1;32m   1158\u001b[0m         \u001b[0manswer\u001b[0m \u001b[0;34m=\u001b[0m \u001b[0mself\u001b[0m\u001b[0;34m.\u001b[0m\u001b[0mgateway_client\u001b[0m\u001b[0;34m.\u001b[0m\u001b[0msend_command\u001b[0m\u001b[0;34m(\u001b[0m\u001b[0mcommand\u001b[0m\u001b[0;34m)\u001b[0m\u001b[0;34m\u001b[0m\u001b[0m\n\u001b[1;32m   1159\u001b[0m         return_value = get_return_value(\n\u001b[0;32m-> 1160\u001b[0;31m             answer, self.gateway_client, self.target_id, self.name)\n\u001b[0m\u001b[1;32m   1161\u001b[0m \u001b[0;34m\u001b[0m\u001b[0m\n\u001b[1;32m   1162\u001b[0m         \u001b[0;32mfor\u001b[0m \u001b[0mtemp_arg\u001b[0m \u001b[0;32min\u001b[0m \u001b[0mtemp_args\u001b[0m\u001b[0;34m:\u001b[0m\u001b[0;34m\u001b[0m\u001b[0m\n",
      "\u001b[0;32m/usr/lib/spark/spark-2.3.0-bin-hadoop2.7/python/pyspark/sql/utils.py\u001b[0m in \u001b[0;36mdeco\u001b[0;34m(*a, **kw)\u001b[0m\n\u001b[1;32m     77\u001b[0m                 \u001b[0;32mraise\u001b[0m \u001b[0mQueryExecutionException\u001b[0m\u001b[0;34m(\u001b[0m\u001b[0ms\u001b[0m\u001b[0;34m.\u001b[0m\u001b[0msplit\u001b[0m\u001b[0;34m(\u001b[0m\u001b[0;34m': '\u001b[0m\u001b[0;34m,\u001b[0m \u001b[0;36m1\u001b[0m\u001b[0;34m)\u001b[0m\u001b[0;34m[\u001b[0m\u001b[0;36m1\u001b[0m\u001b[0;34m]\u001b[0m\u001b[0;34m,\u001b[0m \u001b[0mstackTrace\u001b[0m\u001b[0;34m)\u001b[0m\u001b[0;34m\u001b[0m\u001b[0m\n\u001b[1;32m     78\u001b[0m             \u001b[0;32mif\u001b[0m \u001b[0ms\u001b[0m\u001b[0;34m.\u001b[0m\u001b[0mstartswith\u001b[0m\u001b[0;34m(\u001b[0m\u001b[0;34m'java.lang.IllegalArgumentException: '\u001b[0m\u001b[0;34m)\u001b[0m\u001b[0;34m:\u001b[0m\u001b[0;34m\u001b[0m\u001b[0m\n\u001b[0;32m---> 79\u001b[0;31m                 \u001b[0;32mraise\u001b[0m \u001b[0mIllegalArgumentException\u001b[0m\u001b[0;34m(\u001b[0m\u001b[0ms\u001b[0m\u001b[0;34m.\u001b[0m\u001b[0msplit\u001b[0m\u001b[0;34m(\u001b[0m\u001b[0;34m': '\u001b[0m\u001b[0;34m,\u001b[0m \u001b[0;36m1\u001b[0m\u001b[0;34m)\u001b[0m\u001b[0;34m[\u001b[0m\u001b[0;36m1\u001b[0m\u001b[0;34m]\u001b[0m\u001b[0;34m,\u001b[0m \u001b[0mstackTrace\u001b[0m\u001b[0;34m)\u001b[0m\u001b[0;34m\u001b[0m\u001b[0m\n\u001b[0m\u001b[1;32m     80\u001b[0m             \u001b[0;32mraise\u001b[0m\u001b[0;34m\u001b[0m\u001b[0m\n\u001b[1;32m     81\u001b[0m     \u001b[0;32mreturn\u001b[0m \u001b[0mdeco\u001b[0m\u001b[0;34m\u001b[0m\u001b[0m\n",
      "\u001b[0;31mIllegalArgumentException\u001b[0m: 'requirement failed: Column shop_star_level must be of type equal to one of the following types: [DoubleType, FloatType] but was actually of type StringType.'"
     ]
    }
   ],
   "source": [
    "from pyspark.ml.feature import  Imputer\n",
    "i = Imputer(inputCols=[\"shop_star_level\"],outputCols=[\"shop_star_level\"])\n",
    "i.fit(trainset2)"
   ]
  },
  {
   "cell_type": "code",
   "execution_count": 96,
   "metadata": {},
   "outputs": [
    {
     "data": {
      "text/plain": [
       "[StructField(instance_id,StringType,true),\n",
       " StructField(item_id,StringType,true),\n",
       " StructField(item_category_list,StringType,true),\n",
       " StructField(item_property_list,StringType,true),\n",
       " StructField(item_city_id,StringType,true),\n",
       " StructField(item_price_level,StringType,true),\n",
       " StructField(item_sales_level,StringType,true),\n",
       " StructField(item_collected_level,StringType,true),\n",
       " StructField(item_pv_level,StringType,true),\n",
       " StructField(user_id,StringType,true),\n",
       " StructField(user_gender_id,StringType,true),\n",
       " StructField(user_age_level,StringType,true),\n",
       " StructField(user_occupation_id,StringType,true),\n",
       " StructField(user_star_level,StringType,true),\n",
       " StructField(context_id,StringType,true),\n",
       " StructField(context_timestamp,StringType,true),\n",
       " StructField(context_page_id,StringType,true),\n",
       " StructField(predict_category_property,StringType,true),\n",
       " StructField(shop_review_num_level,StringType,true),\n",
       " StructField(shop_review_positive_rate,StringType,true),\n",
       " StructField(shop_star_level,StringType,true),\n",
       " StructField(shop_score_service,StringType,true),\n",
       " StructField(shop_score_delivery,StringType,true),\n",
       " StructField(shop_score_description,StringType,true),\n",
       " StructField(is_trade,StringType,true),\n",
       " StructField(item_brand_idIdx_OneHot,VectorUDT,true),\n",
       " StructField(shop_idIdx_OneHot,VectorUDT,true)]"
      ]
     },
     "execution_count": 96,
     "metadata": {},
     "output_type": "execute_result"
    }
   ],
   "source": [
    "trainset2.schema.fields"
   ]
  },
  {
   "cell_type": "markdown",
   "metadata": {},
   "source": [
    "# 关于train_test split 和 train_test concat"
   ]
  },
  {
   "cell_type": "code",
   "execution_count": 116,
   "metadata": {},
   "outputs": [],
   "source": [
    "train_set , test_set = trainset.randomSplit([0.8,0.2])"
   ]
  },
  {
   "cell_type": "markdown",
   "metadata": {},
   "source": [
    "# 关于表的修改"
   ]
  },
  {
   "cell_type": "markdown",
   "metadata": {},
   "source": [
    "## 数据类型的修改"
   ]
  },
  {
   "cell_type": "code",
   "execution_count": 100,
   "metadata": {},
   "outputs": [
    {
     "data": {
      "text/plain": [
       "DataFrame[instance_id: string, item_id: string, item_category_list: string, item_property_list: string, item_brand_id: string, item_city_id: string, item_price_level: string, item_sales_level: string, item_collected_level: string, item_pv_level: string, user_id: string, user_gender_id: string, user_age_level: string, user_occupation_id: string, user_star_level: string, context_id: string, context_timestamp: string, context_page_id: string, predict_category_property: string, shop_id: string, shop_review_num_level: string, shop_review_positive_rate: string, shop_star_level: string, shop_score_service: string, shop_score_delivery: string, shop_score_description: string, is_trade: string, day: int, item_brand_idIdx: double, shop_star_level_double: double]"
      ]
     },
     "execution_count": 100,
     "metadata": {},
     "output_type": "execute_result"
    }
   ],
   "source": [
    "from pyspark.sql.types import DoubleType\n",
    "trainset.withColumn(\"shop_star_level_double\",trainset.shop_star_level.cast(DoubleType()))"
   ]
  },
  {
   "cell_type": "markdown",
   "metadata": {},
   "source": [
    "## 数据的修改"
   ]
  },
  {
   "cell_type": "code",
   "execution_count": 105,
   "metadata": {},
   "outputs": [
    {
     "name": "stdout",
     "output_type": "stream",
     "text": [
      "+--------------+------+\n",
      "|user_age_level| count|\n",
      "+--------------+------+\n",
      "|            -1|   964|\n",
      "|          1004|126131|\n",
      "|          1006| 30190|\n",
      "|          1007|  5217|\n",
      "|          1000| 12958|\n",
      "|          1005| 56608|\n",
      "|          1003|169449|\n",
      "|          1002| 70175|\n",
      "|          1001|  6446|\n",
      "+--------------+------+\n",
      "\n"
     ]
    }
   ],
   "source": [
    "trainset.groupby(\"user_age_level\").count().show()"
   ]
  },
  {
   "cell_type": "code",
   "execution_count": 114,
   "metadata": {},
   "outputs": [
    {
     "name": "stdout",
     "output_type": "stream",
     "text": [
      "+------------------+------+\n",
      "|new_user_age_level| count|\n",
      "+------------------+------+\n",
      "|              1004|126131|\n",
      "|              1006| 30190|\n",
      "|              1007|  5217|\n",
      "|              1000| 12958|\n",
      "|              1005| 56608|\n",
      "|               NaN|   964|\n",
      "|              1003|169449|\n",
      "|              1002| 70175|\n",
      "|              1001|  6446|\n",
      "+------------------+------+\n",
      "\n"
     ]
    }
   ],
   "source": [
    "import numpy as np\n",
    "import pyspark.sql.functions as F\n",
    "trainset.withColumn(\"new_user_age_level\",F.when(\n",
    "    trainset.user_age_level != -1,trainset.user_age_level\n",
    ").otherwise(np.nan)).groupby(\"new_user_age_level\").count().show()\n",
    "\n"
   ]
  },
  {
   "cell_type": "code",
   "execution_count": null,
   "metadata": {
    "collapsed": true
   },
   "outputs": [],
   "source": []
  },
  {
   "cell_type": "code",
   "execution_count": null,
   "metadata": {
    "collapsed": true
   },
   "outputs": [],
   "source": []
  }
 ],
 "metadata": {
  "kernelspec": {
   "display_name": "Python 3",
   "language": "python",
   "name": "python3"
  },
  "language_info": {
   "codemirror_mode": {
    "name": "ipython",
    "version": 3
   },
   "file_extension": ".py",
   "mimetype": "text/x-python",
   "name": "python",
   "nbconvert_exporter": "python",
   "pygments_lexer": "ipython3",
   "version": "3.5.4"
  }
 },
 "nbformat": 4,
 "nbformat_minor": 2
}
