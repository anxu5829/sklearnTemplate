{
 "cells": [
  {
   "cell_type": "code",
   "execution_count": 1,
   "metadata": {
    "collapsed": true
   },
   "outputs": [],
   "source": [
    "import pandas as pd\n",
    "import lightgbm as lgb\n",
    "import xgboost as xg\n",
    "import numpy as np\n",
    "import warnings\n",
    "from sklearn import preprocessing\n",
    "from sklearn.base import BaseEstimator, TransformerMixin\n",
    "from sklearn.metrics import log_loss, roc_auc_score\n",
    "from sklearn.model_selection import StratifiedKFold"
   ]
  },
  {
   "cell_type": "code",
   "execution_count": 2,
   "metadata": {
    "collapsed": true
   },
   "outputs": [],
   "source": [
    "warnings.filterwarnings(\"ignore\") "
   ]
  },
  {
   "cell_type": "code",
   "execution_count": 3,
   "metadata": {
    "collapsed": true
   },
   "outputs": [],
   "source": [
    "target = [\"is_trade\"]\n",
    "categorical_features = [\"item_brand_id\", \"item_city_id\"]"
   ]
  },
  {
   "cell_type": "code",
   "execution_count": 4,
   "metadata": {
    "collapsed": true
   },
   "outputs": [],
   "source": [
    "data = pd.read_csv(\"data3.csv\")"
   ]
  },
  {
   "cell_type": "code",
   "execution_count": 5,
   "metadata": {
    "collapsed": true
   },
   "outputs": [],
   "source": [
    "label = pd.read_csv(\"label3.csv\", names=target)"
   ]
  },
  {
   "cell_type": "code",
   "execution_count": 6,
   "metadata": {
    "collapsed": true
   },
   "outputs": [],
   "source": [
    "all_data = pd.concat([data, label], axis=1)"
   ]
  },
  {
   "cell_type": "code",
   "execution_count": 7,
   "metadata": {
    "collapsed": true
   },
   "outputs": [],
   "source": [
    "all_data_copy = all_data.replace(-1, np.nan)"
   ]
  },
  {
   "cell_type": "code",
   "execution_count": 8,
   "metadata": {
    "collapsed": true
   },
   "outputs": [],
   "source": [
    "nan = all_data_copy.apply(lambda x:x.isnull().sum()/len(x))"
   ]
  },
  {
   "cell_type": "code",
   "execution_count": 9,
   "metadata": {
    "collapsed": true
   },
   "outputs": [],
   "source": [
    "drop_col = nan[nan>0.6].index.tolist()"
   ]
  },
  {
   "cell_type": "code",
   "execution_count": 10,
   "metadata": {
    "collapsed": true
   },
   "outputs": [],
   "source": [
    "all_data.drop(drop_col, axis=1, inplace=True)"
   ]
  },
  {
   "cell_type": "code",
   "execution_count": 11,
   "metadata": {
    "collapsed": true
   },
   "outputs": [],
   "source": [
    "continue_feature_data = all_data.select_dtypes(include=[\"float64\"])\n",
    "continue_feature_data.replace(-1.0, np.nan, inplace=True)"
   ]
  },
  {
   "cell_type": "code",
   "execution_count": 12,
   "metadata": {
    "collapsed": true
   },
   "outputs": [],
   "source": [
    "continue_feature_data.fillna(continue_feature_data.mean(), inplace=True)"
   ]
  },
  {
   "cell_type": "code",
   "execution_count": 13,
   "metadata": {
    "collapsed": true
   },
   "outputs": [],
   "source": [
    "all_data.loc[:, continue_feature_data.columns] = continue_feature_data"
   ]
  },
  {
   "cell_type": "code",
   "execution_count": 14,
   "metadata": {
    "collapsed": true
   },
   "outputs": [],
   "source": [
    "all_features = all_data.columns.tolist()"
   ]
  },
  {
   "cell_type": "code",
   "execution_count": 15,
   "metadata": {
    "collapsed": true
   },
   "outputs": [],
   "source": [
    "no_use = [\"day\", \"is_trade\"]\n",
    "for feat in no_use:\n",
    "    all_features.remove(feat)"
   ]
  },
  {
   "cell_type": "code",
   "execution_count": 16,
   "metadata": {
    "collapsed": true
   },
   "outputs": [],
   "source": [
    "use_features = all_features"
   ]
  },
  {
   "cell_type": "code",
   "execution_count": 17,
   "metadata": {
    "collapsed": true
   },
   "outputs": [],
   "source": [
    "train_data, test_data = all_data.query(\"day<24\"), all_data.query(\"day==24\")"
   ]
  },
  {
   "cell_type": "code",
   "execution_count": 18,
   "metadata": {
    "collapsed": true
   },
   "outputs": [],
   "source": [
    "train_data2, val_data = train_data.query(\"day<23\"), train_data.query(\"day==23\")"
   ]
  },
  {
   "cell_type": "code",
   "execution_count": 19,
   "metadata": {
    "collapsed": true
   },
   "outputs": [],
   "source": [
    "lgb_clf = lgb.LGBMClassifier(boosting_type='gbdt', num_leaves=48, max_depth=-1, learning_rate=0.05, n_estimators=2000,\n",
    "                               max_bin=425, subsample_for_bin=50000, objective='binary', min_split_gain=0,\n",
    "                               min_child_weight=5, min_child_samples=10, subsample=1, subsample_freq=1,\n",
    "                               colsample_bytree=1, reg_alpha=3, reg_lambda=5, seed=1000, nthread=-1, silent=True)"
   ]
  },
  {
   "cell_type": "code",
   "execution_count": 20,
   "metadata": {
    "scrolled": true
   },
   "outputs": [
    {
     "name": "stdout",
     "output_type": "stream",
     "text": [
      "[1]\tvalid_0's binary_logloss: 0.0949118\tvalid_1's binary_logloss: 0.0865609\n",
      "Training until validation scores don't improve for 200 rounds.\n",
      "[2]\tvalid_0's binary_logloss: 0.0940822\tvalid_1's binary_logloss: 0.0859907\n",
      "[3]\tvalid_0's binary_logloss: 0.0933339\tvalid_1's binary_logloss: 0.0854829\n",
      "[4]\tvalid_0's binary_logloss: 0.092665\tvalid_1's binary_logloss: 0.0850785\n",
      "[5]\tvalid_0's binary_logloss: 0.0920815\tvalid_1's binary_logloss: 0.084703\n",
      "[6]\tvalid_0's binary_logloss: 0.0915485\tvalid_1's binary_logloss: 0.0843944\n",
      "[7]\tvalid_0's binary_logloss: 0.091048\tvalid_1's binary_logloss: 0.0841048\n",
      "[8]\tvalid_0's binary_logloss: 0.0906081\tvalid_1's binary_logloss: 0.0838566\n",
      "[9]\tvalid_0's binary_logloss: 0.0901846\tvalid_1's binary_logloss: 0.0836266\n",
      "[10]\tvalid_0's binary_logloss: 0.0897927\tvalid_1's binary_logloss: 0.083399\n",
      "[11]\tvalid_0's binary_logloss: 0.0894356\tvalid_1's binary_logloss: 0.08322\n",
      "[12]\tvalid_0's binary_logloss: 0.0890761\tvalid_1's binary_logloss: 0.0830421\n",
      "[13]\tvalid_0's binary_logloss: 0.0887241\tvalid_1's binary_logloss: 0.0828626\n",
      "[14]\tvalid_0's binary_logloss: 0.0884055\tvalid_1's binary_logloss: 0.0827275\n",
      "[15]\tvalid_0's binary_logloss: 0.0881062\tvalid_1's binary_logloss: 0.0825828\n",
      "[16]\tvalid_0's binary_logloss: 0.0878099\tvalid_1's binary_logloss: 0.0824791\n",
      "[17]\tvalid_0's binary_logloss: 0.0875333\tvalid_1's binary_logloss: 0.0823621\n",
      "[18]\tvalid_0's binary_logloss: 0.087256\tvalid_1's binary_logloss: 0.0822611\n",
      "[19]\tvalid_0's binary_logloss: 0.0869984\tvalid_1's binary_logloss: 0.0821771\n",
      "[20]\tvalid_0's binary_logloss: 0.0867605\tvalid_1's binary_logloss: 0.082101\n",
      "[21]\tvalid_0's binary_logloss: 0.0865165\tvalid_1's binary_logloss: 0.0820351\n",
      "[22]\tvalid_0's binary_logloss: 0.0862635\tvalid_1's binary_logloss: 0.0819551\n",
      "[23]\tvalid_0's binary_logloss: 0.0860397\tvalid_1's binary_logloss: 0.0819009\n",
      "[24]\tvalid_0's binary_logloss: 0.0858213\tvalid_1's binary_logloss: 0.0818521\n",
      "[25]\tvalid_0's binary_logloss: 0.0856138\tvalid_1's binary_logloss: 0.0818063\n",
      "[26]\tvalid_0's binary_logloss: 0.0854251\tvalid_1's binary_logloss: 0.0817584\n",
      "[27]\tvalid_0's binary_logloss: 0.0852347\tvalid_1's binary_logloss: 0.0817193\n",
      "[28]\tvalid_0's binary_logloss: 0.0850337\tvalid_1's binary_logloss: 0.0816753\n",
      "[29]\tvalid_0's binary_logloss: 0.084838\tvalid_1's binary_logloss: 0.0816343\n",
      "[30]\tvalid_0's binary_logloss: 0.0846562\tvalid_1's binary_logloss: 0.0816014\n",
      "[31]\tvalid_0's binary_logloss: 0.0844851\tvalid_1's binary_logloss: 0.0815708\n",
      "[32]\tvalid_0's binary_logloss: 0.0843145\tvalid_1's binary_logloss: 0.0815493\n",
      "[33]\tvalid_0's binary_logloss: 0.0841459\tvalid_1's binary_logloss: 0.081527\n",
      "[34]\tvalid_0's binary_logloss: 0.0839855\tvalid_1's binary_logloss: 0.0814948\n",
      "[35]\tvalid_0's binary_logloss: 0.0838288\tvalid_1's binary_logloss: 0.0814786\n",
      "[36]\tvalid_0's binary_logloss: 0.0836656\tvalid_1's binary_logloss: 0.0814654\n",
      "[37]\tvalid_0's binary_logloss: 0.0834995\tvalid_1's binary_logloss: 0.0814475\n",
      "[38]\tvalid_0's binary_logloss: 0.0833353\tvalid_1's binary_logloss: 0.0814292\n",
      "[39]\tvalid_0's binary_logloss: 0.0831819\tvalid_1's binary_logloss: 0.0814043\n",
      "[40]\tvalid_0's binary_logloss: 0.0830286\tvalid_1's binary_logloss: 0.0813949\n",
      "[41]\tvalid_0's binary_logloss: 0.0828863\tvalid_1's binary_logloss: 0.0813568\n",
      "[42]\tvalid_0's binary_logloss: 0.0827248\tvalid_1's binary_logloss: 0.081326\n",
      "[43]\tvalid_0's binary_logloss: 0.082587\tvalid_1's binary_logloss: 0.0812996\n",
      "[44]\tvalid_0's binary_logloss: 0.0824342\tvalid_1's binary_logloss: 0.0813078\n",
      "[45]\tvalid_0's binary_logloss: 0.0822786\tvalid_1's binary_logloss: 0.0812878\n",
      "[46]\tvalid_0's binary_logloss: 0.0821237\tvalid_1's binary_logloss: 0.0812714\n",
      "[47]\tvalid_0's binary_logloss: 0.0819875\tvalid_1's binary_logloss: 0.0812704\n",
      "[48]\tvalid_0's binary_logloss: 0.0818587\tvalid_1's binary_logloss: 0.0812724\n",
      "[49]\tvalid_0's binary_logloss: 0.0817334\tvalid_1's binary_logloss: 0.081256\n",
      "[50]\tvalid_0's binary_logloss: 0.0816005\tvalid_1's binary_logloss: 0.0812296\n",
      "[51]\tvalid_0's binary_logloss: 0.0814606\tvalid_1's binary_logloss: 0.0812069\n",
      "[52]\tvalid_0's binary_logloss: 0.0813209\tvalid_1's binary_logloss: 0.0812126\n",
      "[53]\tvalid_0's binary_logloss: 0.0811837\tvalid_1's binary_logloss: 0.0811878\n",
      "[54]\tvalid_0's binary_logloss: 0.0810558\tvalid_1's binary_logloss: 0.0812006\n",
      "[55]\tvalid_0's binary_logloss: 0.080938\tvalid_1's binary_logloss: 0.0811971\n",
      "[56]\tvalid_0's binary_logloss: 0.0808082\tvalid_1's binary_logloss: 0.081196\n",
      "[57]\tvalid_0's binary_logloss: 0.0806809\tvalid_1's binary_logloss: 0.0811926\n",
      "[58]\tvalid_0's binary_logloss: 0.0805479\tvalid_1's binary_logloss: 0.0811974\n",
      "[59]\tvalid_0's binary_logloss: 0.0804194\tvalid_1's binary_logloss: 0.0811845\n",
      "[60]\tvalid_0's binary_logloss: 0.0802973\tvalid_1's binary_logloss: 0.0811901\n",
      "[61]\tvalid_0's binary_logloss: 0.080174\tvalid_1's binary_logloss: 0.081183\n",
      "[62]\tvalid_0's binary_logloss: 0.0800479\tvalid_1's binary_logloss: 0.0811786\n",
      "[63]\tvalid_0's binary_logloss: 0.0799298\tvalid_1's binary_logloss: 0.081179\n",
      "[64]\tvalid_0's binary_logloss: 0.0798213\tvalid_1's binary_logloss: 0.0811821\n",
      "[65]\tvalid_0's binary_logloss: 0.0797193\tvalid_1's binary_logloss: 0.0811883\n",
      "[66]\tvalid_0's binary_logloss: 0.0796085\tvalid_1's binary_logloss: 0.0811826\n",
      "[67]\tvalid_0's binary_logloss: 0.0794961\tvalid_1's binary_logloss: 0.0811892\n",
      "[68]\tvalid_0's binary_logloss: 0.0793877\tvalid_1's binary_logloss: 0.0812002\n",
      "[69]\tvalid_0's binary_logloss: 0.0792713\tvalid_1's binary_logloss: 0.0811919\n",
      "[70]\tvalid_0's binary_logloss: 0.0791679\tvalid_1's binary_logloss: 0.081195\n",
      "[71]\tvalid_0's binary_logloss: 0.0790668\tvalid_1's binary_logloss: 0.081185\n",
      "[72]\tvalid_0's binary_logloss: 0.0789634\tvalid_1's binary_logloss: 0.0811827\n",
      "[73]\tvalid_0's binary_logloss: 0.0788492\tvalid_1's binary_logloss: 0.0811926\n",
      "[74]\tvalid_0's binary_logloss: 0.0787455\tvalid_1's binary_logloss: 0.0812107\n",
      "[75]\tvalid_0's binary_logloss: 0.0786345\tvalid_1's binary_logloss: 0.0812195\n",
      "[76]\tvalid_0's binary_logloss: 0.0785332\tvalid_1's binary_logloss: 0.0812282\n",
      "[77]\tvalid_0's binary_logloss: 0.0784238\tvalid_1's binary_logloss: 0.0812428\n",
      "[78]\tvalid_0's binary_logloss: 0.07832\tvalid_1's binary_logloss: 0.0812539\n",
      "[79]\tvalid_0's binary_logloss: 0.0782093\tvalid_1's binary_logloss: 0.0812547\n",
      "[80]\tvalid_0's binary_logloss: 0.0781207\tvalid_1's binary_logloss: 0.0812512\n",
      "[81]\tvalid_0's binary_logloss: 0.0780316\tvalid_1's binary_logloss: 0.0812646\n",
      "[82]\tvalid_0's binary_logloss: 0.0779262\tvalid_1's binary_logloss: 0.081265\n",
      "[83]\tvalid_0's binary_logloss: 0.0778335\tvalid_1's binary_logloss: 0.0812774\n",
      "[84]\tvalid_0's binary_logloss: 0.0777425\tvalid_1's binary_logloss: 0.0812913\n",
      "[85]\tvalid_0's binary_logloss: 0.0776494\tvalid_1's binary_logloss: 0.0812968\n",
      "[86]\tvalid_0's binary_logloss: 0.0775544\tvalid_1's binary_logloss: 0.0812994\n",
      "[87]\tvalid_0's binary_logloss: 0.0774636\tvalid_1's binary_logloss: 0.0812963\n",
      "[88]\tvalid_0's binary_logloss: 0.0773744\tvalid_1's binary_logloss: 0.0813005\n",
      "[89]\tvalid_0's binary_logloss: 0.0772819\tvalid_1's binary_logloss: 0.081319\n",
      "[90]\tvalid_0's binary_logloss: 0.0771901\tvalid_1's binary_logloss: 0.0813362\n",
      "[91]\tvalid_0's binary_logloss: 0.077111\tvalid_1's binary_logloss: 0.0813304\n",
      "[92]\tvalid_0's binary_logloss: 0.0770194\tvalid_1's binary_logloss: 0.0813357\n",
      "[93]\tvalid_0's binary_logloss: 0.0769235\tvalid_1's binary_logloss: 0.0813448\n",
      "[94]\tvalid_0's binary_logloss: 0.0768443\tvalid_1's binary_logloss: 0.0813483\n",
      "[95]\tvalid_0's binary_logloss: 0.0767506\tvalid_1's binary_logloss: 0.0813549\n",
      "[96]\tvalid_0's binary_logloss: 0.0766682\tvalid_1's binary_logloss: 0.081361\n",
      "[97]\tvalid_0's binary_logloss: 0.0765803\tvalid_1's binary_logloss: 0.0813685\n",
      "[98]\tvalid_0's binary_logloss: 0.0764896\tvalid_1's binary_logloss: 0.0813762\n",
      "[99]\tvalid_0's binary_logloss: 0.0763953\tvalid_1's binary_logloss: 0.0813766\n",
      "[100]\tvalid_0's binary_logloss: 0.0763118\tvalid_1's binary_logloss: 0.0813846\n",
      "[101]\tvalid_0's binary_logloss: 0.0762251\tvalid_1's binary_logloss: 0.0813957\n",
      "[102]\tvalid_0's binary_logloss: 0.0761457\tvalid_1's binary_logloss: 0.0813999\n",
      "[103]\tvalid_0's binary_logloss: 0.0760605\tvalid_1's binary_logloss: 0.0814077\n",
      "[104]\tvalid_0's binary_logloss: 0.0759812\tvalid_1's binary_logloss: 0.0814099\n",
      "[105]\tvalid_0's binary_logloss: 0.0758968\tvalid_1's binary_logloss: 0.0814093\n",
      "[106]\tvalid_0's binary_logloss: 0.0758311\tvalid_1's binary_logloss: 0.0814003\n",
      "[107]\tvalid_0's binary_logloss: 0.0757553\tvalid_1's binary_logloss: 0.0814154\n"
     ]
    },
    {
     "name": "stdout",
     "output_type": "stream",
     "text": [
      "[108]\tvalid_0's binary_logloss: 0.0756566\tvalid_1's binary_logloss: 0.0814292\n",
      "[109]\tvalid_0's binary_logloss: 0.075588\tvalid_1's binary_logloss: 0.0814361\n",
      "[110]\tvalid_0's binary_logloss: 0.0755068\tvalid_1's binary_logloss: 0.081447\n",
      "[111]\tvalid_0's binary_logloss: 0.0754302\tvalid_1's binary_logloss: 0.0814559\n",
      "[112]\tvalid_0's binary_logloss: 0.0753483\tvalid_1's binary_logloss: 0.0814699\n",
      "[113]\tvalid_0's binary_logloss: 0.0752728\tvalid_1's binary_logloss: 0.0814829\n",
      "[114]\tvalid_0's binary_logloss: 0.075189\tvalid_1's binary_logloss: 0.0814872\n",
      "[115]\tvalid_0's binary_logloss: 0.0751222\tvalid_1's binary_logloss: 0.0814697\n",
      "[116]\tvalid_0's binary_logloss: 0.0750635\tvalid_1's binary_logloss: 0.0814686\n",
      "[117]\tvalid_0's binary_logloss: 0.0749924\tvalid_1's binary_logloss: 0.081471\n",
      "[118]\tvalid_0's binary_logloss: 0.0749289\tvalid_1's binary_logloss: 0.0814766\n",
      "[119]\tvalid_0's binary_logloss: 0.0748584\tvalid_1's binary_logloss: 0.0814907\n",
      "[120]\tvalid_0's binary_logloss: 0.0747945\tvalid_1's binary_logloss: 0.0814978\n",
      "[121]\tvalid_0's binary_logloss: 0.0747204\tvalid_1's binary_logloss: 0.0814975\n",
      "[122]\tvalid_0's binary_logloss: 0.0746493\tvalid_1's binary_logloss: 0.0815119\n",
      "[123]\tvalid_0's binary_logloss: 0.0745754\tvalid_1's binary_logloss: 0.0815224\n",
      "[124]\tvalid_0's binary_logloss: 0.0744962\tvalid_1's binary_logloss: 0.0815315\n",
      "[125]\tvalid_0's binary_logloss: 0.0744346\tvalid_1's binary_logloss: 0.0815385\n",
      "[126]\tvalid_0's binary_logloss: 0.0743537\tvalid_1's binary_logloss: 0.0815487\n",
      "[127]\tvalid_0's binary_logloss: 0.0742877\tvalid_1's binary_logloss: 0.0815535\n",
      "[128]\tvalid_0's binary_logloss: 0.0742138\tvalid_1's binary_logloss: 0.0815544\n",
      "[129]\tvalid_0's binary_logloss: 0.0741356\tvalid_1's binary_logloss: 0.0815588\n",
      "[130]\tvalid_0's binary_logloss: 0.0740569\tvalid_1's binary_logloss: 0.0815659\n",
      "[131]\tvalid_0's binary_logloss: 0.0739991\tvalid_1's binary_logloss: 0.0815702\n",
      "[132]\tvalid_0's binary_logloss: 0.0739274\tvalid_1's binary_logloss: 0.0815818\n",
      "[133]\tvalid_0's binary_logloss: 0.0738585\tvalid_1's binary_logloss: 0.0815979\n",
      "[134]\tvalid_0's binary_logloss: 0.0737969\tvalid_1's binary_logloss: 0.0816082\n",
      "[135]\tvalid_0's binary_logloss: 0.0737438\tvalid_1's binary_logloss: 0.0816126\n",
      "[136]\tvalid_0's binary_logloss: 0.0736666\tvalid_1's binary_logloss: 0.0816127\n",
      "[137]\tvalid_0's binary_logloss: 0.0735808\tvalid_1's binary_logloss: 0.081619\n",
      "[138]\tvalid_0's binary_logloss: 0.0735053\tvalid_1's binary_logloss: 0.0816269\n",
      "[139]\tvalid_0's binary_logloss: 0.0734141\tvalid_1's binary_logloss: 0.0816383\n",
      "[140]\tvalid_0's binary_logloss: 0.0733274\tvalid_1's binary_logloss: 0.0816307\n",
      "[141]\tvalid_0's binary_logloss: 0.0732797\tvalid_1's binary_logloss: 0.0816259\n",
      "[142]\tvalid_0's binary_logloss: 0.0732023\tvalid_1's binary_logloss: 0.0816302\n",
      "[143]\tvalid_0's binary_logloss: 0.0731485\tvalid_1's binary_logloss: 0.0816358\n",
      "[144]\tvalid_0's binary_logloss: 0.073084\tvalid_1's binary_logloss: 0.0816419\n",
      "[145]\tvalid_0's binary_logloss: 0.0730314\tvalid_1's binary_logloss: 0.0816481\n",
      "[146]\tvalid_0's binary_logloss: 0.0729666\tvalid_1's binary_logloss: 0.0816516\n",
      "[147]\tvalid_0's binary_logloss: 0.0729048\tvalid_1's binary_logloss: 0.0816599\n",
      "[148]\tvalid_0's binary_logloss: 0.0728375\tvalid_1's binary_logloss: 0.0816668\n",
      "[149]\tvalid_0's binary_logloss: 0.0727808\tvalid_1's binary_logloss: 0.0816693\n",
      "[150]\tvalid_0's binary_logloss: 0.0727234\tvalid_1's binary_logloss: 0.0816659\n",
      "[151]\tvalid_0's binary_logloss: 0.072654\tvalid_1's binary_logloss: 0.0816709\n",
      "[152]\tvalid_0's binary_logloss: 0.0725785\tvalid_1's binary_logloss: 0.0816986\n",
      "[153]\tvalid_0's binary_logloss: 0.0725192\tvalid_1's binary_logloss: 0.081703\n",
      "[154]\tvalid_0's binary_logloss: 0.0724533\tvalid_1's binary_logloss: 0.0817098\n",
      "[155]\tvalid_0's binary_logloss: 0.0723957\tvalid_1's binary_logloss: 0.0817141\n",
      "[156]\tvalid_0's binary_logloss: 0.0723331\tvalid_1's binary_logloss: 0.0817255\n",
      "[157]\tvalid_0's binary_logloss: 0.0722859\tvalid_1's binary_logloss: 0.0817363\n",
      "[158]\tvalid_0's binary_logloss: 0.0722108\tvalid_1's binary_logloss: 0.0817366\n",
      "[159]\tvalid_0's binary_logloss: 0.0721406\tvalid_1's binary_logloss: 0.0817478\n",
      "[160]\tvalid_0's binary_logloss: 0.0720809\tvalid_1's binary_logloss: 0.0817569\n",
      "[161]\tvalid_0's binary_logloss: 0.0720197\tvalid_1's binary_logloss: 0.0817555\n",
      "[162]\tvalid_0's binary_logloss: 0.0719646\tvalid_1's binary_logloss: 0.0817659\n",
      "[163]\tvalid_0's binary_logloss: 0.071895\tvalid_1's binary_logloss: 0.0817715\n",
      "[164]\tvalid_0's binary_logloss: 0.0718434\tvalid_1's binary_logloss: 0.0817707\n",
      "[165]\tvalid_0's binary_logloss: 0.0717743\tvalid_1's binary_logloss: 0.0817873\n",
      "[166]\tvalid_0's binary_logloss: 0.0717018\tvalid_1's binary_logloss: 0.0817948\n",
      "[167]\tvalid_0's binary_logloss: 0.0716422\tvalid_1's binary_logloss: 0.0817867\n",
      "[168]\tvalid_0's binary_logloss: 0.0715916\tvalid_1's binary_logloss: 0.0818018\n",
      "[169]\tvalid_0's binary_logloss: 0.0715409\tvalid_1's binary_logloss: 0.0818086\n",
      "[170]\tvalid_0's binary_logloss: 0.0714847\tvalid_1's binary_logloss: 0.0818206\n",
      "[171]\tvalid_0's binary_logloss: 0.0714297\tvalid_1's binary_logloss: 0.0818334\n",
      "[172]\tvalid_0's binary_logloss: 0.0713834\tvalid_1's binary_logloss: 0.0818432\n",
      "[173]\tvalid_0's binary_logloss: 0.0713273\tvalid_1's binary_logloss: 0.081856\n",
      "[174]\tvalid_0's binary_logloss: 0.0712701\tvalid_1's binary_logloss: 0.0818575\n",
      "[175]\tvalid_0's binary_logloss: 0.0712221\tvalid_1's binary_logloss: 0.0818775\n",
      "[176]\tvalid_0's binary_logloss: 0.0711581\tvalid_1's binary_logloss: 0.0818793\n",
      "[177]\tvalid_0's binary_logloss: 0.0711072\tvalid_1's binary_logloss: 0.0818879\n",
      "[178]\tvalid_0's binary_logloss: 0.0710222\tvalid_1's binary_logloss: 0.0818935\n",
      "[179]\tvalid_0's binary_logloss: 0.0709624\tvalid_1's binary_logloss: 0.0818984\n",
      "[180]\tvalid_0's binary_logloss: 0.0709148\tvalid_1's binary_logloss: 0.0819022\n",
      "[181]\tvalid_0's binary_logloss: 0.0708583\tvalid_1's binary_logloss: 0.0819114\n",
      "[182]\tvalid_0's binary_logloss: 0.0707991\tvalid_1's binary_logloss: 0.0819286\n",
      "[183]\tvalid_0's binary_logloss: 0.0707289\tvalid_1's binary_logloss: 0.0819398\n",
      "[184]\tvalid_0's binary_logloss: 0.0706869\tvalid_1's binary_logloss: 0.0819457\n",
      "[185]\tvalid_0's binary_logloss: 0.0706089\tvalid_1's binary_logloss: 0.0819483\n",
      "[186]\tvalid_0's binary_logloss: 0.0705354\tvalid_1's binary_logloss: 0.0819535\n",
      "[187]\tvalid_0's binary_logloss: 0.0704851\tvalid_1's binary_logloss: 0.0819474\n",
      "[188]\tvalid_0's binary_logloss: 0.0704362\tvalid_1's binary_logloss: 0.0819631\n",
      "[189]\tvalid_0's binary_logloss: 0.0703982\tvalid_1's binary_logloss: 0.0819645\n",
      "[190]\tvalid_0's binary_logloss: 0.070347\tvalid_1's binary_logloss: 0.0819673\n",
      "[191]\tvalid_0's binary_logloss: 0.0702909\tvalid_1's binary_logloss: 0.0819714\n",
      "[192]\tvalid_0's binary_logloss: 0.0702316\tvalid_1's binary_logloss: 0.0819784\n",
      "[193]\tvalid_0's binary_logloss: 0.0701799\tvalid_1's binary_logloss: 0.0819784\n",
      "[194]\tvalid_0's binary_logloss: 0.0701242\tvalid_1's binary_logloss: 0.0819895\n",
      "[195]\tvalid_0's binary_logloss: 0.0700753\tvalid_1's binary_logloss: 0.0819944\n",
      "[196]\tvalid_0's binary_logloss: 0.0699998\tvalid_1's binary_logloss: 0.0820018\n",
      "[197]\tvalid_0's binary_logloss: 0.0699441\tvalid_1's binary_logloss: 0.0820073\n",
      "[198]\tvalid_0's binary_logloss: 0.0698814\tvalid_1's binary_logloss: 0.082014\n",
      "[199]\tvalid_0's binary_logloss: 0.0698298\tvalid_1's binary_logloss: 0.0820188\n",
      "[200]\tvalid_0's binary_logloss: 0.0697775\tvalid_1's binary_logloss: 0.0820233\n",
      "[201]\tvalid_0's binary_logloss: 0.0697089\tvalid_1's binary_logloss: 0.082032\n",
      "[202]\tvalid_0's binary_logloss: 0.0696661\tvalid_1's binary_logloss: 0.0820399\n",
      "[203]\tvalid_0's binary_logloss: 0.0696185\tvalid_1's binary_logloss: 0.0820452\n",
      "[204]\tvalid_0's binary_logloss: 0.06956\tvalid_1's binary_logloss: 0.0820485\n",
      "[205]\tvalid_0's binary_logloss: 0.0694939\tvalid_1's binary_logloss: 0.0820642\n",
      "[206]\tvalid_0's binary_logloss: 0.0694447\tvalid_1's binary_logloss: 0.0820774\n",
      "[207]\tvalid_0's binary_logloss: 0.0694046\tvalid_1's binary_logloss: 0.0820776\n",
      "[208]\tvalid_0's binary_logloss: 0.0693542\tvalid_1's binary_logloss: 0.0820798\n",
      "[209]\tvalid_0's binary_logloss: 0.0692994\tvalid_1's binary_logloss: 0.0820861\n",
      "[210]\tvalid_0's binary_logloss: 0.06923\tvalid_1's binary_logloss: 0.0820791\n",
      "[211]\tvalid_0's binary_logloss: 0.0691789\tvalid_1's binary_logloss: 0.0820762\n",
      "[212]\tvalid_0's binary_logloss: 0.0691411\tvalid_1's binary_logloss: 0.0820734\n",
      "[213]\tvalid_0's binary_logloss: 0.0690972\tvalid_1's binary_logloss: 0.0820736\n",
      "[214]\tvalid_0's binary_logloss: 0.0690483\tvalid_1's binary_logloss: 0.0820894\n"
     ]
    },
    {
     "name": "stdout",
     "output_type": "stream",
     "text": [
      "[215]\tvalid_0's binary_logloss: 0.0689992\tvalid_1's binary_logloss: 0.0820931\n",
      "[216]\tvalid_0's binary_logloss: 0.0689519\tvalid_1's binary_logloss: 0.0820972\n",
      "[217]\tvalid_0's binary_logloss: 0.0689022\tvalid_1's binary_logloss: 0.0821098\n",
      "[218]\tvalid_0's binary_logloss: 0.0688525\tvalid_1's binary_logloss: 0.0821166\n",
      "[219]\tvalid_0's binary_logloss: 0.0688026\tvalid_1's binary_logloss: 0.0821159\n",
      "[220]\tvalid_0's binary_logloss: 0.0687524\tvalid_1's binary_logloss: 0.0821227\n",
      "[221]\tvalid_0's binary_logloss: 0.0686956\tvalid_1's binary_logloss: 0.0821288\n",
      "[222]\tvalid_0's binary_logloss: 0.0686526\tvalid_1's binary_logloss: 0.0821371\n",
      "[223]\tvalid_0's binary_logloss: 0.0686039\tvalid_1's binary_logloss: 0.0821581\n",
      "[224]\tvalid_0's binary_logloss: 0.0685616\tvalid_1's binary_logloss: 0.082158\n",
      "[225]\tvalid_0's binary_logloss: 0.0685249\tvalid_1's binary_logloss: 0.0821601\n",
      "[226]\tvalid_0's binary_logloss: 0.0684892\tvalid_1's binary_logloss: 0.082165\n",
      "[227]\tvalid_0's binary_logloss: 0.06845\tvalid_1's binary_logloss: 0.0821668\n",
      "[228]\tvalid_0's binary_logloss: 0.0683889\tvalid_1's binary_logloss: 0.0821659\n",
      "[229]\tvalid_0's binary_logloss: 0.0683511\tvalid_1's binary_logloss: 0.0821723\n",
      "[230]\tvalid_0's binary_logloss: 0.0683156\tvalid_1's binary_logloss: 0.0821721\n",
      "[231]\tvalid_0's binary_logloss: 0.0682573\tvalid_1's binary_logloss: 0.0821798\n",
      "[232]\tvalid_0's binary_logloss: 0.0682114\tvalid_1's binary_logloss: 0.082188\n",
      "[233]\tvalid_0's binary_logloss: 0.0681514\tvalid_1's binary_logloss: 0.0821846\n",
      "[234]\tvalid_0's binary_logloss: 0.0680991\tvalid_1's binary_logloss: 0.0821894\n",
      "[235]\tvalid_0's binary_logloss: 0.0680541\tvalid_1's binary_logloss: 0.082197\n",
      "[236]\tvalid_0's binary_logloss: 0.0680021\tvalid_1's binary_logloss: 0.0821945\n",
      "[237]\tvalid_0's binary_logloss: 0.0679422\tvalid_1's binary_logloss: 0.0822002\n",
      "[238]\tvalid_0's binary_logloss: 0.0678879\tvalid_1's binary_logloss: 0.0821946\n",
      "[239]\tvalid_0's binary_logloss: 0.0678242\tvalid_1's binary_logloss: 0.0822006\n",
      "[240]\tvalid_0's binary_logloss: 0.0677753\tvalid_1's binary_logloss: 0.0822126\n",
      "[241]\tvalid_0's binary_logloss: 0.0677354\tvalid_1's binary_logloss: 0.0822061\n",
      "[242]\tvalid_0's binary_logloss: 0.0676896\tvalid_1's binary_logloss: 0.0822191\n",
      "[243]\tvalid_0's binary_logloss: 0.0676458\tvalid_1's binary_logloss: 0.0822272\n",
      "[244]\tvalid_0's binary_logloss: 0.0676069\tvalid_1's binary_logloss: 0.0822287\n",
      "[245]\tvalid_0's binary_logloss: 0.0675571\tvalid_1's binary_logloss: 0.0822408\n",
      "[246]\tvalid_0's binary_logloss: 0.0674925\tvalid_1's binary_logloss: 0.0822462\n",
      "[247]\tvalid_0's binary_logloss: 0.067432\tvalid_1's binary_logloss: 0.0822583\n",
      "[248]\tvalid_0's binary_logloss: 0.0673857\tvalid_1's binary_logloss: 0.0822605\n",
      "[249]\tvalid_0's binary_logloss: 0.0673502\tvalid_1's binary_logloss: 0.0822683\n",
      "[250]\tvalid_0's binary_logloss: 0.067306\tvalid_1's binary_logloss: 0.0822704\n",
      "[251]\tvalid_0's binary_logloss: 0.0672539\tvalid_1's binary_logloss: 0.0822715\n",
      "[252]\tvalid_0's binary_logloss: 0.067211\tvalid_1's binary_logloss: 0.0822723\n",
      "[253]\tvalid_0's binary_logloss: 0.0671614\tvalid_1's binary_logloss: 0.082276\n",
      "[254]\tvalid_0's binary_logloss: 0.067115\tvalid_1's binary_logloss: 0.0822843\n",
      "[255]\tvalid_0's binary_logloss: 0.0670686\tvalid_1's binary_logloss: 0.0822849\n",
      "[256]\tvalid_0's binary_logloss: 0.0670284\tvalid_1's binary_logloss: 0.082289\n",
      "[257]\tvalid_0's binary_logloss: 0.0669948\tvalid_1's binary_logloss: 0.0822972\n",
      "[258]\tvalid_0's binary_logloss: 0.0669537\tvalid_1's binary_logloss: 0.0822999\n",
      "[259]\tvalid_0's binary_logloss: 0.0669061\tvalid_1's binary_logloss: 0.0823079\n",
      "[260]\tvalid_0's binary_logloss: 0.0668706\tvalid_1's binary_logloss: 0.0823117\n",
      "[261]\tvalid_0's binary_logloss: 0.0668253\tvalid_1's binary_logloss: 0.0823113\n",
      "[262]\tvalid_0's binary_logloss: 0.0667751\tvalid_1's binary_logloss: 0.0823109\n",
      "Early stopping, best iteration is:\n",
      "[62]\tvalid_0's binary_logloss: 0.0800479\tvalid_1's binary_logloss: 0.0811786\n"
     ]
    }
   ],
   "source": [
    "model = lgb_clf.fit(train_data2[use_features], train_data2[target], \\\n",
    "            eval_set=[(train_data2[use_features], train_data2[target]), \\\n",
    "                      (val_data[use_features], val_data[target])],\\\n",
    "            early_stopping_rounds=200,\\\n",
    "            categorical_feature=categorical_features)"
   ]
  },
  {
   "cell_type": "code",
   "execution_count": 26,
   "metadata": {
    "collapsed": true
   },
   "outputs": [],
   "source": [
    "best_iter = model.best_iteration_\n",
    "\n"
   ]
  },
  {
   "cell_type": "code",
   "execution_count": 27,
   "metadata": {},
   "outputs": [
    {
     "data": {
      "text/plain": [
       "62"
      ]
     },
     "execution_count": 27,
     "metadata": {},
     "output_type": "execute_result"
    }
   ],
   "source": [
    "best_iter"
   ]
  },
  {
   "cell_type": "code",
   "execution_count": 28,
   "metadata": {
    "collapsed": true
   },
   "outputs": [],
   "source": [
    "lgb_clf = lgb.LGBMClassifier(boosting_type='gbdt', num_leaves=48, max_depth=-1, learning_rate=0.05, n_estimators=219,\n",
    "                               max_bin=425, subsample_for_bin=50000, objective='binary', min_split_gain=0,\n",
    "                               min_child_weight=5, min_child_samples=10, subsample=1, subsample_freq=1,\n",
    "                               colsample_bytree=1, reg_alpha=3, reg_lambda=5, seed=1000, nthread=-1, silent=True)"
   ]
  },
  {
   "cell_type": "code",
   "execution_count": 29,
   "metadata": {},
   "outputs": [
    {
     "data": {
      "text/plain": [
       "LGBMClassifier(boosting_type='gbdt', class_weight=None, colsample_bytree=1,\n",
       "        learning_rate=0.05, max_bin=425, max_depth=-1,\n",
       "        min_child_samples=10, min_child_weight=5, min_split_gain=0,\n",
       "        n_estimators=219, n_jobs=-1, nthread=-1, num_leaves=48,\n",
       "        objective='binary', random_state=None, reg_alpha=3, reg_lambda=5,\n",
       "        seed=1000, silent=True, subsample=1, subsample_for_bin=50000,\n",
       "        subsample_freq=1)"
      ]
     },
     "execution_count": 29,
     "metadata": {},
     "output_type": "execute_result"
    }
   ],
   "source": [
    "lgb_clf.fit(train_data[use_features], train_data[target], categorical_feature=categorical_features)"
   ]
  },
  {
   "cell_type": "code",
   "execution_count": 30,
   "metadata": {
    "collapsed": true
   },
   "outputs": [],
   "source": [
    "pre = lgb_clf.predict_proba(test_data[use_features])"
   ]
  },
  {
   "cell_type": "code",
   "execution_count": 31,
   "metadata": {},
   "outputs": [
    {
     "data": {
      "text/plain": [
       "0.08178898551309843"
      ]
     },
     "execution_count": 31,
     "metadata": {},
     "output_type": "execute_result"
    }
   ],
   "source": [
    "log_loss(test_data[target], pre)"
   ]
  },
  {
   "cell_type": "code",
   "execution_count": 32,
   "metadata": {},
   "outputs": [
    {
     "data": {
      "text/plain": [
       "0.7085618924474264"
      ]
     },
     "execution_count": 32,
     "metadata": {},
     "output_type": "execute_result"
    }
   ],
   "source": [
    "roc_auc_score(test_data[target], pre[:,1])"
   ]
  },
  {
   "cell_type": "code",
   "execution_count": 30,
   "metadata": {
    "collapsed": true
   },
   "outputs": [],
   "source": [
    "new_features = set(['item_brand_id', 'item_sales_level', 'item_collected_level', 'user_age_level',\n",
    "'user_star_level', 'user_count_10_bf', 'click_item_id_user_id_tab', 'u_day_diffTime_last',\n",
    "'diffWithLastView_item_brand_id', 'item_category_list_day__active_item_id__num',\n",
    "'i_day_diffTime_last', 'item_price_level_mean_by_item_brand_id',\n",
    "'user_id_day__active_item_city_id__num', 'user_id_lasttime_diff', 'i_day_diffTime_first',\n",
    "'item_collected_level_mean_by_item_city_id'])"
   ]
  },
  {
   "cell_type": "code",
   "execution_count": 31,
   "metadata": {
    "collapsed": true
   },
   "outputs": [],
   "source": [
    "all_features = set(all_features)"
   ]
  },
  {
   "cell_type": "code",
   "execution_count": 32,
   "metadata": {
    "collapsed": true
   },
   "outputs": [],
   "source": [
    "selsect_features = list(all_features.intersection(new_features))"
   ]
  },
  {
   "cell_type": "code",
   "execution_count": 33,
   "metadata": {
    "collapsed": true
   },
   "outputs": [],
   "source": [
    "lgb_clf = lgb.LGBMClassifier(boosting_type='gbdt', num_leaves=48, max_depth=-1, learning_rate=0.05, n_estimators=2000,\n",
    "                               max_bin=425, subsample_for_bin=50000, objective='binary', min_split_gain=0,\n",
    "                               min_child_weight=5, min_child_samples=10, subsample=1, subsample_freq=1,\n",
    "                               colsample_bytree=1, reg_alpha=3, reg_lambda=5, seed=1000, nthread=-1, silent=True)"
   ]
  },
  {
   "cell_type": "code",
   "execution_count": 34,
   "metadata": {},
   "outputs": [
    {
     "ename": "TypeError",
     "evalue": "Wrong type(str) or unknown name(item_city_id) in categorical_feature",
     "output_type": "error",
     "traceback": [
      "\u001b[0;31m---------------------------------------------------------------------------\u001b[0m",
      "\u001b[0;31mTypeError\u001b[0m                                 Traceback (most recent call last)",
      "\u001b[0;32m<ipython-input-34-8f29555f9320>\u001b[0m in \u001b[0;36m<module>\u001b[0;34m()\u001b[0m\n\u001b[0;32m----> 1\u001b[0;31m \u001b[0mmodel\u001b[0m \u001b[0;34m=\u001b[0m \u001b[0mlgb_clf\u001b[0m\u001b[0;34m.\u001b[0m\u001b[0mfit\u001b[0m\u001b[0;34m(\u001b[0m\u001b[0mtrain_data2\u001b[0m\u001b[0;34m[\u001b[0m\u001b[0mselsect_features\u001b[0m\u001b[0;34m]\u001b[0m\u001b[0;34m,\u001b[0m \u001b[0mtrain_data2\u001b[0m\u001b[0;34m[\u001b[0m\u001b[0mtarget\u001b[0m\u001b[0;34m]\u001b[0m\u001b[0;34m,\u001b[0m             \u001b[0meval_set\u001b[0m\u001b[0;34m=\u001b[0m\u001b[0;34m[\u001b[0m\u001b[0;34m(\u001b[0m\u001b[0mtrain_data2\u001b[0m\u001b[0;34m[\u001b[0m\u001b[0mselsect_features\u001b[0m\u001b[0;34m]\u001b[0m\u001b[0;34m,\u001b[0m \u001b[0mtrain_data2\u001b[0m\u001b[0;34m[\u001b[0m\u001b[0mtarget\u001b[0m\u001b[0;34m]\u001b[0m\u001b[0;34m)\u001b[0m\u001b[0;34m,\u001b[0m                       \u001b[0;34m(\u001b[0m\u001b[0mval_data\u001b[0m\u001b[0;34m[\u001b[0m\u001b[0mselsect_features\u001b[0m\u001b[0;34m]\u001b[0m\u001b[0;34m,\u001b[0m \u001b[0mval_data\u001b[0m\u001b[0;34m[\u001b[0m\u001b[0mtarget\u001b[0m\u001b[0;34m]\u001b[0m\u001b[0;34m)\u001b[0m\u001b[0;34m]\u001b[0m\u001b[0;34m,\u001b[0m            \u001b[0mearly_stopping_rounds\u001b[0m\u001b[0;34m=\u001b[0m\u001b[0;36m200\u001b[0m\u001b[0;34m,\u001b[0m            \u001b[0mcategorical_feature\u001b[0m\u001b[0;34m=\u001b[0m\u001b[0mcategorical_features\u001b[0m\u001b[0;34m)\u001b[0m\u001b[0;34m\u001b[0m\u001b[0m\n\u001b[0m",
      "\u001b[0;32m~/.local/lib/python3.5/site-packages/lightgbm/sklearn.py\u001b[0m in \u001b[0;36mfit\u001b[0;34m(self, X, y, sample_weight, init_score, eval_set, eval_names, eval_sample_weight, eval_class_weight, eval_init_score, eval_metric, early_stopping_rounds, verbose, feature_name, categorical_feature, callbacks)\u001b[0m\n\u001b[1;32m    693\u001b[0m                                         \u001b[0mverbose\u001b[0m\u001b[0;34m=\u001b[0m\u001b[0mverbose\u001b[0m\u001b[0;34m,\u001b[0m \u001b[0mfeature_name\u001b[0m\u001b[0;34m=\u001b[0m\u001b[0mfeature_name\u001b[0m\u001b[0;34m,\u001b[0m\u001b[0;34m\u001b[0m\u001b[0m\n\u001b[1;32m    694\u001b[0m                                         \u001b[0mcategorical_feature\u001b[0m\u001b[0;34m=\u001b[0m\u001b[0mcategorical_feature\u001b[0m\u001b[0;34m,\u001b[0m\u001b[0;34m\u001b[0m\u001b[0m\n\u001b[0;32m--> 695\u001b[0;31m                                         callbacks=callbacks)\n\u001b[0m\u001b[1;32m    696\u001b[0m         \u001b[0;32mreturn\u001b[0m \u001b[0mself\u001b[0m\u001b[0;34m\u001b[0m\u001b[0m\n\u001b[1;32m    697\u001b[0m \u001b[0;34m\u001b[0m\u001b[0m\n",
      "\u001b[0;32m~/.local/lib/python3.5/site-packages/lightgbm/sklearn.py\u001b[0m in \u001b[0;36mfit\u001b[0;34m(self, X, y, sample_weight, init_score, group, eval_set, eval_names, eval_sample_weight, eval_class_weight, eval_init_score, eval_group, eval_metric, early_stopping_rounds, verbose, feature_name, categorical_feature, callbacks)\u001b[0m\n\u001b[1;32m    472\u001b[0m                               \u001b[0mverbose_eval\u001b[0m\u001b[0;34m=\u001b[0m\u001b[0mverbose\u001b[0m\u001b[0;34m,\u001b[0m \u001b[0mfeature_name\u001b[0m\u001b[0;34m=\u001b[0m\u001b[0mfeature_name\u001b[0m\u001b[0;34m,\u001b[0m\u001b[0;34m\u001b[0m\u001b[0m\n\u001b[1;32m    473\u001b[0m                               \u001b[0mcategorical_feature\u001b[0m\u001b[0;34m=\u001b[0m\u001b[0mcategorical_feature\u001b[0m\u001b[0;34m,\u001b[0m\u001b[0;34m\u001b[0m\u001b[0m\n\u001b[0;32m--> 474\u001b[0;31m                               callbacks=callbacks)\n\u001b[0m\u001b[1;32m    475\u001b[0m \u001b[0;34m\u001b[0m\u001b[0m\n\u001b[1;32m    476\u001b[0m         \u001b[0;32mif\u001b[0m \u001b[0mevals_result\u001b[0m\u001b[0;34m:\u001b[0m\u001b[0;34m\u001b[0m\u001b[0m\n",
      "\u001b[0;32m~/.local/lib/python3.5/site-packages/lightgbm/engine.py\u001b[0m in \u001b[0;36mtrain\u001b[0;34m(params, train_set, num_boost_round, valid_sets, valid_names, fobj, feval, init_model, feature_name, categorical_feature, early_stopping_rounds, evals_result, verbose_eval, learning_rates, keep_training_booster, callbacks)\u001b[0m\n\u001b[1;32m    181\u001b[0m     \u001b[0;31m# construct booster\u001b[0m\u001b[0;34m\u001b[0m\u001b[0;34m\u001b[0m\u001b[0m\n\u001b[1;32m    182\u001b[0m     \u001b[0;32mtry\u001b[0m\u001b[0;34m:\u001b[0m\u001b[0;34m\u001b[0m\u001b[0m\n\u001b[0;32m--> 183\u001b[0;31m         \u001b[0mbooster\u001b[0m \u001b[0;34m=\u001b[0m \u001b[0mBooster\u001b[0m\u001b[0;34m(\u001b[0m\u001b[0mparams\u001b[0m\u001b[0;34m=\u001b[0m\u001b[0mparams\u001b[0m\u001b[0;34m,\u001b[0m \u001b[0mtrain_set\u001b[0m\u001b[0;34m=\u001b[0m\u001b[0mtrain_set\u001b[0m\u001b[0;34m)\u001b[0m\u001b[0;34m\u001b[0m\u001b[0m\n\u001b[0m\u001b[1;32m    184\u001b[0m         \u001b[0;32mif\u001b[0m \u001b[0mis_valid_contain_train\u001b[0m\u001b[0;34m:\u001b[0m\u001b[0;34m\u001b[0m\u001b[0m\n\u001b[1;32m    185\u001b[0m             \u001b[0mbooster\u001b[0m\u001b[0;34m.\u001b[0m\u001b[0mset_train_data_name\u001b[0m\u001b[0;34m(\u001b[0m\u001b[0mtrain_data_name\u001b[0m\u001b[0;34m)\u001b[0m\u001b[0;34m\u001b[0m\u001b[0m\n",
      "\u001b[0;32m~/.local/lib/python3.5/site-packages/lightgbm/basic.py\u001b[0m in \u001b[0;36m__init__\u001b[0;34m(self, params, train_set, model_file, silent)\u001b[0m\n\u001b[1;32m   1305\u001b[0m             \u001b[0mself\u001b[0m\u001b[0;34m.\u001b[0m\u001b[0mhandle\u001b[0m \u001b[0;34m=\u001b[0m \u001b[0mctypes\u001b[0m\u001b[0;34m.\u001b[0m\u001b[0mc_void_p\u001b[0m\u001b[0;34m(\u001b[0m\u001b[0;34m)\u001b[0m\u001b[0;34m\u001b[0m\u001b[0m\n\u001b[1;32m   1306\u001b[0m             _safe_call(_LIB.LGBM_BoosterCreate(\n\u001b[0;32m-> 1307\u001b[0;31m                 \u001b[0mtrain_set\u001b[0m\u001b[0;34m.\u001b[0m\u001b[0mconstruct\u001b[0m\u001b[0;34m(\u001b[0m\u001b[0;34m)\u001b[0m\u001b[0;34m.\u001b[0m\u001b[0mhandle\u001b[0m\u001b[0;34m,\u001b[0m\u001b[0;34m\u001b[0m\u001b[0m\n\u001b[0m\u001b[1;32m   1308\u001b[0m                 \u001b[0mc_str\u001b[0m\u001b[0;34m(\u001b[0m\u001b[0mparams_str\u001b[0m\u001b[0;34m)\u001b[0m\u001b[0;34m,\u001b[0m\u001b[0;34m\u001b[0m\u001b[0m\n\u001b[1;32m   1309\u001b[0m                 ctypes.byref(self.handle)))\n",
      "\u001b[0;32m~/.local/lib/python3.5/site-packages/lightgbm/basic.py\u001b[0m in \u001b[0;36mconstruct\u001b[0;34m(self)\u001b[0m\n\u001b[1;32m    858\u001b[0m                                 \u001b[0mweight\u001b[0m\u001b[0;34m=\u001b[0m\u001b[0mself\u001b[0m\u001b[0;34m.\u001b[0m\u001b[0mweight\u001b[0m\u001b[0;34m,\u001b[0m \u001b[0mgroup\u001b[0m\u001b[0;34m=\u001b[0m\u001b[0mself\u001b[0m\u001b[0;34m.\u001b[0m\u001b[0mgroup\u001b[0m\u001b[0;34m,\u001b[0m \u001b[0minit_score\u001b[0m\u001b[0;34m=\u001b[0m\u001b[0mself\u001b[0m\u001b[0;34m.\u001b[0m\u001b[0minit_score\u001b[0m\u001b[0;34m,\u001b[0m\u001b[0;34m\u001b[0m\u001b[0m\n\u001b[1;32m    859\u001b[0m                                 \u001b[0mpredictor\u001b[0m\u001b[0;34m=\u001b[0m\u001b[0mself\u001b[0m\u001b[0;34m.\u001b[0m\u001b[0m_predictor\u001b[0m\u001b[0;34m,\u001b[0m \u001b[0msilent\u001b[0m\u001b[0;34m=\u001b[0m\u001b[0mself\u001b[0m\u001b[0;34m.\u001b[0m\u001b[0msilent\u001b[0m\u001b[0;34m,\u001b[0m \u001b[0mfeature_name\u001b[0m\u001b[0;34m=\u001b[0m\u001b[0mself\u001b[0m\u001b[0;34m.\u001b[0m\u001b[0mfeature_name\u001b[0m\u001b[0;34m,\u001b[0m\u001b[0;34m\u001b[0m\u001b[0m\n\u001b[0;32m--> 860\u001b[0;31m                                 categorical_feature=self.categorical_feature, params=self.params)\n\u001b[0m\u001b[1;32m    861\u001b[0m             \u001b[0;32mif\u001b[0m \u001b[0mself\u001b[0m\u001b[0;34m.\u001b[0m\u001b[0mfree_raw_data\u001b[0m\u001b[0;34m:\u001b[0m\u001b[0;34m\u001b[0m\u001b[0m\n\u001b[1;32m    862\u001b[0m                 \u001b[0mself\u001b[0m\u001b[0;34m.\u001b[0m\u001b[0mdata\u001b[0m \u001b[0;34m=\u001b[0m \u001b[0;32mNone\u001b[0m\u001b[0;34m\u001b[0m\u001b[0m\n",
      "\u001b[0;32m~/.local/lib/python3.5/site-packages/lightgbm/basic.py\u001b[0m in \u001b[0;36m_lazy_init\u001b[0;34m(self, data, label, reference, weight, group, init_score, predictor, silent, feature_name, categorical_feature, params)\u001b[0m\n\u001b[1;32m    680\u001b[0m                 \u001b[0;32melse\u001b[0m\u001b[0;34m:\u001b[0m\u001b[0;34m\u001b[0m\u001b[0m\n\u001b[1;32m    681\u001b[0m                     raise TypeError(\"Wrong type({}) or unknown name({}) in categorical_feature\"\n\u001b[0;32m--> 682\u001b[0;31m                                     .format(type(name).__name__, name))\n\u001b[0m\u001b[1;32m    683\u001b[0m             \u001b[0;32mif\u001b[0m \u001b[0mcategorical_indices\u001b[0m\u001b[0;34m:\u001b[0m\u001b[0;34m\u001b[0m\u001b[0m\n\u001b[1;32m    684\u001b[0m                 \u001b[0;32mif\u001b[0m \u001b[0;34m\"categorical_feature\"\u001b[0m \u001b[0;32min\u001b[0m \u001b[0mparams\u001b[0m \u001b[0;32mor\u001b[0m \u001b[0;34m\"categorical_column\"\u001b[0m \u001b[0;32min\u001b[0m \u001b[0mparams\u001b[0m\u001b[0;34m:\u001b[0m\u001b[0;34m\u001b[0m\u001b[0m\n",
      "\u001b[0;31mTypeError\u001b[0m: Wrong type(str) or unknown name(item_city_id) in categorical_feature"
     ]
    }
   ],
   "source": [
    "model = lgb_clf.fit(train_data2[selsect_features], train_data2[target], \\\n",
    "            eval_set=[(train_data2[selsect_features], train_data2[target]), \\\n",
    "                      (val_data[selsect_features], val_data[target])],\\\n",
    "            early_stopping_rounds=200,\\\n",
    "            categorical_feature=categorical_features)"
   ]
  },
  {
   "cell_type": "code",
   "execution_count": null,
   "metadata": {
    "collapsed": true
   },
   "outputs": [],
   "source": []
  }
 ],
 "metadata": {
  "kernelspec": {
   "display_name": "Python 3",
   "language": "python",
   "name": "python3"
  },
  "language_info": {
   "codemirror_mode": {
    "name": "ipython",
    "version": 3
   },
   "file_extension": ".py",
   "mimetype": "text/x-python",
   "name": "python",
   "nbconvert_exporter": "python",
   "pygments_lexer": "ipython3",
   "version": "3.5.4"
  }
 },
 "nbformat": 4,
 "nbformat_minor": 2
}
